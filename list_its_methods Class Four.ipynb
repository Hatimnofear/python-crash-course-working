{
 "cells": [
  {
   "cell_type": "code",
   "execution_count": 1,
   "id": "2f6cc752",
   "metadata": {},
   "outputs": [],
   "source": [
    "name1 : str = \"Sir Qasim\"\n",
    "name2 : str = \"Sir Zia\"\n",
    "name3 : str = \"Sir Inam\""
   ]
  },
  {
   "cell_type": "markdown",
   "id": "27ac4d90",
   "metadata": {},
   "source": [
    "# List"
   ]
  },
  {
   "cell_type": "raw",
   "id": "404a357b",
   "metadata": {},
   "source": [
    "• dynamic length\n",
    "• hetrogenous data types (Multiple type)\n",
    "• index\n",
    "• postive 0 to n-1\n",
    "• negative -1 to length\n",
    "• slicing\n",
    "• variable names[start:end:step]\n",
    "• start : int = include\n",
    "• end : int = n-1\n",
    "• step : int = sequance\n"
   ]
  },
  {
   "cell_type": "code",
   "execution_count": 2,
   "id": "6659fce0",
   "metadata": {},
   "outputs": [
    {
     "name": "stdout",
     "output_type": "stream",
     "text": [
      "Sir Qasim\n",
      "Sir Qasim\n",
      "Sir Zia\n"
     ]
    }
   ],
   "source": [
    "# old way\n",
    "# ->        0          1       2\n",
    "names = [\"Sir Qasim\",\"Sir Zia\",\"Sir Inam\"] # length-1 \n",
    "# <-        -3       -2        -1\n",
    "\n",
    "print(names[0]) # Qasim\n",
    "print(names[-3]) # Qasim\n",
    "\n",
    "print(names[-2]) # Sir Zia"
   ]
  },
  {
   "cell_type": "code",
   "execution_count": 3,
   "id": "a4db2b45",
   "metadata": {},
   "outputs": [
    {
     "name": "stdout",
     "output_type": "stream",
     "text": [
      "20\n"
     ]
    }
   ],
   "source": [
    "from typing import Any\n",
    "\n",
    "# ->                    0        1         2\n",
    "names : list[Any] = [\"Sir Qasim\",\"Sir Zia\", \"Sir Inam\", 20, True]\n",
    "# <-                    -3     -2          -1\n",
    "\n",
    "print(names[-2])"
   ]
  },
  {
   "cell_type": "code",
   "execution_count": 4,
   "id": "aa3b0368",
   "metadata": {},
   "outputs": [
    {
     "name": "stdout",
     "output_type": "stream",
     "text": [
      "<class 'list'>\n",
      "<class 'str'>\n",
      "Founder of PIAIC SIR ZIA\n"
     ]
    }
   ],
   "source": [
    "# ->                    0        1         2\n",
    "names : list[Any] = [\"Sir Qasim\",\"Sir Zia\", \"Sir Inam\"]\n",
    "# <-                    -3     -2          -1\n",
    "\n",
    "print(type(names))\n",
    "print(type(names[-2]))\n",
    "\n",
    "print(f'Founder of PIAIC {names[-2].upper()}')"
   ]
  },
  {
   "cell_type": "code",
   "execution_count": 5,
   "id": "7e6b0354",
   "metadata": {},
   "outputs": [
    {
     "name": "stdout",
     "output_type": "stream",
     "text": [
      "20\n"
     ]
    }
   ],
   "source": [
    "# ->                    0        1         2\n",
    "names : list[str] = [\"Sir Qasim\",\"Sir Zia\", \"Sir Inam\", 20, True]\n",
    "# <-                    -3     -2          -1\n",
    "\n",
    "print(names[-2])"
   ]
  },
  {
   "cell_type": "code",
   "execution_count": 6,
   "id": "499c4a8a",
   "metadata": {},
   "outputs": [
    {
     "data": {
      "text/plain": [
       "'abcdef'"
      ]
     },
     "execution_count": 6,
     "metadata": {},
     "output_type": "execute_result"
    }
   ],
   "source": [
    "'abcdef'\n"
   ]
  },
  {
   "cell_type": "code",
   "execution_count": 7,
   "id": "f86132e3",
   "metadata": {},
   "outputs": [
    {
     "data": {
      "text/plain": [
       "['a', 'b', 'c', 'd', 'e', 'f']"
      ]
     },
     "execution_count": 7,
     "metadata": {},
     "output_type": "execute_result"
    }
   ],
   "source": [
    "list('abcdef')\n"
   ]
  },
  {
   "cell_type": "code",
   "execution_count": 8,
   "id": "203754db",
   "metadata": {},
   "outputs": [
    {
     "name": "stdout",
     "output_type": "stream",
     "text": [
      "['A', 'B', 'C', 'D', 'E', 'F', 'G', 'H', 'I', 'J', 'K', 'L', 'M', 'N', 'O', 'P', 'Q', 'R', 'S', 'T', 'U', 'V', 'W', 'X', 'Y', 'X']\n"
     ]
    }
   ],
   "source": [
    "characters : list[str] = list(\"ABCDEFGHIJKLMNOPQRSTUVWXYX\")\n",
    "print(characters)"
   ]
  },
  {
   "cell_type": "code",
   "execution_count": 9,
   "id": "d55343c3",
   "metadata": {},
   "outputs": [
    {
     "name": "stdout",
     "output_type": "stream",
     "text": [
      "['A', 'B']\n",
      "['A', 'B']\n",
      "['A', 'B']\n",
      "['A', 'B']\n",
      "['A', 'B']\n"
     ]
    }
   ],
   "source": [
    "#                          0    1    2                                                                                                                 25\n",
    "characters : list[str] = ['A', 'B', 'C', 'D', 'E', 'F', 'G', 'H', 'I', 'J', 'K', 'L', 'M', 'N', 'O', 'P', 'Q', 'R', 'S', 'T', 'U', 'V', 'W', 'X', 'Y', 'X']\n",
    "#                         -26   -25  -24                                                                                                                         -1\n",
    "\n",
    "# defualt slicing go from left to right\n",
    "print(characters[0:2]) # 0= include : index 2-1 = 1\n",
    "print(characters[:2]) # not pass any number = all\n",
    "print(characters[-26:-24])# 0= include : index -24-1 = -25\n",
    "print(characters[0:2:1]) # 0= include : index 2-1 = 1\n",
    "print(characters[0:2:]) # 0= include : index 2-1 = 1"
   ]
  },
  {
   "cell_type": "code",
   "execution_count": 10,
   "id": "41aa9a32",
   "metadata": {},
   "outputs": [
    {
     "name": "stdout",
     "output_type": "stream",
     "text": [
      "['A', 'B', 'C', 'D', 'E', 'F', 'G', 'H', 'I', 'J', 'K', 'L', 'M', 'N', 'O', 'P', 'Q', 'R', 'S', 'T', 'U', 'V', 'W', 'X', 'Y', 'X']\n"
     ]
    }
   ],
   "source": [
    "characters : list[str] = ['A', 'B', 'C', 'D', 'E', 'F', 'G', 'H', 'I', 'J', 'K', 'L', 'M', 'N', 'O', 'P', 'Q', 'R', 'S', 'T', 'U', 'V', 'W', 'X', 'Y', 'X']\n",
    "\n",
    "print(characters[::])"
   ]
  },
  {
   "cell_type": "code",
   "execution_count": 11,
   "id": "1f4938d3",
   "metadata": {},
   "outputs": [
    {
     "name": "stdout",
     "output_type": "stream",
     "text": [
      "['A', 'C', 'E', 'G', 'I', 'K', 'M', 'O', 'Q', 'S', 'U', 'W', 'Y']\n"
     ]
    }
   ],
   "source": [
    "characters : list[str] = ['A', 'B', 'C', 'D', 'E', 'F', 'G', 'H', 'I', 'J', 'K', 'L', 'M', 'N', 'O', 'P', 'Q', 'R', 'S', 'T', 'U', 'V', 'W', 'X', 'Y', 'X']\n",
    "\n",
    "print(characters[::2])"
   ]
  },
  {
   "cell_type": "code",
   "execution_count": 12,
   "id": "1486de92",
   "metadata": {},
   "outputs": [
    {
     "name": "stdout",
     "output_type": "stream",
     "text": [
      "['B', 'C', 'D', 'E']\n"
     ]
    }
   ],
   "source": [
    "#                          0    1    2    3    4   5     6    7\n",
    "characters : list[str] = ['A', 'B', 'C', 'D', 'E', 'F', 'G', 'H']\n",
    "#                         -8    -7   -6  -5    -4   -3   -2   -1\n",
    "\n",
    "print(characters[1:-3]) # 'B', 'C', 'D', 'E'"
   ]
  },
  {
   "cell_type": "code",
   "execution_count": 13,
   "id": "72581c48",
   "metadata": {},
   "outputs": [
    {
     "name": "stdout",
     "output_type": "stream",
     "text": [
      "[]\n"
     ]
    }
   ],
   "source": [
    "#                          0    1    2    3    4   5     6    7\n",
    "characters : list[str] = ['A', 'B', 'C', 'D', 'E', 'F', 'G', 'H']\n",
    "#                         -8    -7   -6  -5    -4   -3   -2   -1\n",
    "\n",
    "# iteration slicing ->\n",
    "# step -> positive\n",
    "# step <- negative\n",
    "print(characters[-2:-5]) "
   ]
  },
  {
   "cell_type": "code",
   "execution_count": 14,
   "id": "ba7b1766",
   "metadata": {},
   "outputs": [
    {
     "name": "stdout",
     "output_type": "stream",
     "text": [
      "['G', 'F', 'E']\n"
     ]
    }
   ],
   "source": [
    "#                          0    1    2    3    4   5     6    7\n",
    "characters : list[str] = ['A', 'B', 'C', 'D', 'E', 'F', 'G', 'H']\n",
    "#                         -8    -7   -6  -5    -4   -3   -2   -1\n",
    "\n",
    "# iteration slicing ->\n",
    "# step -> positive\n",
    "# step <- negative\n",
    "print(characters[-2:-5:-1]) "
   ]
  },
  {
   "cell_type": "code",
   "execution_count": 15,
   "id": "9319e65e",
   "metadata": {},
   "outputs": [
    {
     "name": "stdout",
     "output_type": "stream",
     "text": [
      "['Z', 'Y', 'X', 'W', 'V', 'U', 'T', 'S', 'R', 'Q', 'P', 'O', 'N', 'M', 'L', 'K', 'J', 'I', 'H', 'G', 'F', 'E', 'D', 'C', 'B', 'A']\n"
     ]
    }
   ],
   "source": [
    "characters : list[str] = ['A', 'B', 'C', 'D', 'E', 'F', 'G', 'H', 'I', 'J', 'K', 'L', 'M', 'N', 'O', 'P', 'Q', 'R', 'S', 'T', 'U', 'V', 'W', 'X', 'Y', 'Z']\n",
    "\n",
    "print(characters[::-1]) # <-"
   ]
  },
  {
   "cell_type": "markdown",
   "id": "138afcb9",
   "metadata": {},
   "source": [
    "# List methods"
   ]
  },
  {
   "cell_type": "code",
   "execution_count": 16,
   "id": "b0e186fa",
   "metadata": {},
   "outputs": [
    {
     "data": {
      "text/plain": [
       "['append',\n",
       " 'clear',\n",
       " 'copy',\n",
       " 'count',\n",
       " 'extend',\n",
       " 'index',\n",
       " 'insert',\n",
       " 'pop',\n",
       " 'remove',\n",
       " 'reverse',\n",
       " 'sort']"
      ]
     },
     "execution_count": 16,
     "metadata": {},
     "output_type": "execute_result"
    }
   ],
   "source": [
    "[i for i in dir(list) if \"__\" not in i]\n"
   ]
  },
  {
   "cell_type": "code",
   "execution_count": 17,
   "id": "cbce3b1b",
   "metadata": {},
   "outputs": [
    {
     "name": "stdout",
     "output_type": "stream",
     "text": [
      "[1, 2, 3]\n"
     ]
    }
   ],
   "source": [
    "a: list[str] = [1,2,3]\n",
    "print(a)"
   ]
  },
  {
   "cell_type": "code",
   "execution_count": 18,
   "id": "8c563bf7",
   "metadata": {},
   "outputs": [
    {
     "ename": "NameError",
     "evalue": "name 'a' is not defined",
     "output_type": "error",
     "traceback": [
      "\u001b[1;31m---------------------------------------------------------------------------\u001b[0m",
      "\u001b[1;31mNameError\u001b[0m                                 Traceback (most recent call last)",
      "Cell \u001b[1;32mIn[18], line 3\u001b[0m\n\u001b[0;32m      1\u001b[0m a: \u001b[38;5;28mlist\u001b[39m[\u001b[38;5;28mstr\u001b[39m] \u001b[38;5;241m=\u001b[39m [\u001b[38;5;241m1\u001b[39m,\u001b[38;5;241m2\u001b[39m,\u001b[38;5;241m3\u001b[39m]\n\u001b[0;32m      2\u001b[0m \u001b[38;5;28;01mdel\u001b[39;00m a \u001b[38;5;66;03m# remove object from memory\u001b[39;00m\n\u001b[1;32m----> 3\u001b[0m \u001b[38;5;28mprint\u001b[39m(\u001b[43ma\u001b[49m)\n",
      "\u001b[1;31mNameError\u001b[0m: name 'a' is not defined"
     ]
    }
   ],
   "source": [
    "a: list[str] = [1,2,3]\n",
    "del a # remove object from memory\n",
    "print(a)"
   ]
  },
  {
   "cell_type": "code",
   "execution_count": 19,
   "id": "74ca1862",
   "metadata": {},
   "outputs": [
    {
     "name": "stdout",
     "output_type": "stream",
     "text": [
      "[]\n"
     ]
    }
   ],
   "source": [
    "a: list[str] = [1,2,3]\n",
    "a.clear()# remove all element but object is ramin\n",
    "print(a)"
   ]
  },
  {
   "cell_type": "markdown",
   "id": "1ee501ae",
   "metadata": {},
   "source": [
    "# Help"
   ]
  },
  {
   "cell_type": "markdown",
   "id": "c3c0fbee",
   "metadata": {},
   "source": [
    "• help(object)\n",
    "• object?\n",
    "• object??\n",
    "• ?object\n",
    "• ??object\n"
   ]
  },
  {
   "cell_type": "code",
   "execution_count": 20,
   "id": "b26ad896",
   "metadata": {},
   "outputs": [
    {
     "name": "stdout",
     "output_type": "stream",
     "text": [
      "Help on built-in function print in module builtins:\n",
      "\n",
      "print(...)\n",
      "    print(value, ..., sep=' ', end='\\n', file=sys.stdout, flush=False)\n",
      "    \n",
      "    Prints the values to a stream, or to sys.stdout by default.\n",
      "    Optional keyword arguments:\n",
      "    file:  a file-like object (stream); defaults to the current sys.stdout.\n",
      "    sep:   string inserted between values, default a space.\n",
      "    end:   string appended after the last value, default a newline.\n",
      "    flush: whether to forcibly flush the stream.\n",
      "\n"
     ]
    }
   ],
   "source": [
    "help(print)\n"
   ]
  },
  {
   "cell_type": "code",
   "execution_count": 21,
   "id": "093e4fab",
   "metadata": {},
   "outputs": [],
   "source": [
    "??print\n"
   ]
  },
  {
   "cell_type": "code",
   "execution_count": 22,
   "id": "5c0f6078",
   "metadata": {},
   "outputs": [
    {
     "name": "stdout",
     "output_type": "stream",
     "text": [
      "['Sir Qasim', 'Sir Zia', 'Sir Inam', 20, True]\n",
      "['Sir Muhammad Qasim', 'Sir Zia', 'Sir Inam', 20, True]\n"
     ]
    }
   ],
   "source": [
    "# ->                    0        1         2\n",
    "names : list[Any] = [\"Sir Qasim\",\"Sir Zia\", \"Sir Inam\", 20, True]\n",
    "# <-                    -3     -2          -1\n",
    "\n",
    "print(names)\n",
    "\n",
    "names[0] = \"Sir Muhammad Qasim\" # mutable -> editable\n",
    "\n",
    "print(names)"
   ]
  },
  {
   "cell_type": "code",
   "execution_count": 23,
   "id": "de93068e",
   "metadata": {},
   "outputs": [
    {
     "name": "stdout",
     "output_type": "stream",
     "text": [
      "['Sir Qasim', 'Sir Zia', 'Sir Inam', 20, True]\n",
      "['Sir Qasim', 'Sir Zia', 'Sir Inam', True]\n"
     ]
    }
   ],
   "source": [
    "# ->                    0        1         2\n",
    "names : list[Any] = [\"Sir Qasim\",\"Sir Zia\", \"Sir Inam\", 20, True]\n",
    "# <-                    -3     -2          -1\n",
    "\n",
    "print(names)\n",
    "\n",
    "del names[3] # delete 3 index element\n",
    "\n",
    "print(names)"
   ]
  },
  {
   "cell_type": "code",
   "execution_count": 24,
   "id": "00646b2d",
   "metadata": {},
   "outputs": [
    {
     "name": "stdout",
     "output_type": "stream",
     "text": [
      "Pakistan\n"
     ]
    },
    {
     "data": {
      "text/plain": [
       "None"
      ]
     },
     "metadata": {},
     "output_type": "display_data"
    }
   ],
   "source": [
    "a : str = print(\"Pakistan\") # none-return function\n",
    "display(a)"
   ]
  },
  {
   "cell_type": "code",
   "execution_count": 25,
   "id": "4dad8415",
   "metadata": {},
   "outputs": [
    {
     "data": {
      "text/plain": [
       "1732636812800"
      ]
     },
     "metadata": {},
     "output_type": "display_data"
    }
   ],
   "source": [
    "a : str = id(names) # return function\n",
    "display(a)"
   ]
  },
  {
   "cell_type": "code",
   "execution_count": 26,
   "id": "ee3c1922",
   "metadata": {},
   "outputs": [
    {
     "data": {
      "text/plain": [
       "['Sir Qasim', 'Sir Zia', 'Sir Inam', True]"
      ]
     },
     "execution_count": 26,
     "metadata": {},
     "output_type": "execute_result"
    }
   ],
   "source": [
    "# ->                    0        1         2\n",
    "names : list[Any] = [\"Sir Qasim\",\"Sir Zia\", \"Sir Inam\", 20, True]\n",
    "# <-                    -3     -2          -1\n",
    "\n",
    "del names[3]\n",
    "names"
   ]
  },
  {
   "cell_type": "markdown",
   "id": "76cbcdd9",
   "metadata": {},
   "source": [
    "# pop method"
   ]
  },
  {
   "cell_type": "code",
   "execution_count": 27,
   "id": "7d580399",
   "metadata": {},
   "outputs": [
    {
     "name": "stdout",
     "output_type": "stream",
     "text": [
      "['Sir Qasim', 'Sir Zia', 'Sir Inam', 20, True]\n",
      "True\n"
     ]
    }
   ],
   "source": [
    "# ->                    0        1         2\n",
    "names : list[Any] = [\"Sir Qasim\",\"Sir Zia\", \"Sir Inam\", 20, True]\n",
    "# <-\n",
    "print(names)\n",
    "a : str = names.pop() # pop return method\n",
    "\n",
    "print(a)"
   ]
  },
  {
   "cell_type": "code",
   "execution_count": 28,
   "id": "5cc8b6ba",
   "metadata": {},
   "outputs": [
    {
     "name": "stdout",
     "output_type": "stream",
     "text": [
      "['Sir Qasim', 'Sir Zia', 'Sir Inam', 20, True]\n",
      "Sir Qasim\n",
      "['Sir Zia', 'Sir Inam', 20, True]\n"
     ]
    }
   ],
   "source": [
    "# ->                    0        1         2\n",
    "names : list[Any] = [\"Sir Qasim\",\"Sir Zia\", \"Sir Inam\", 20, True]\n",
    "# <-\n",
    "print(names)\n",
    "a : str = names.pop(0) # pop return method\n",
    "\n",
    "print(a)\n",
    "print(names)"
   ]
  },
  {
   "cell_type": "markdown",
   "id": "1a262bd0",
   "metadata": {},
   "source": [
    "# append method add element in last"
   ]
  },
  {
   "cell_type": "code",
   "execution_count": 29,
   "id": "c817a2f1",
   "metadata": {},
   "outputs": [
    {
     "name": "stdout",
     "output_type": "stream",
     "text": [
      "['a', 'b', 'Sir Zia', 'Sir Inam', 'Sir Qasim']\n"
     ]
    }
   ],
   "source": [
    "names : list[str] = ['a','b']\n",
    "\n",
    "names.append(\"Sir Zia\")# add element in last\n",
    "names.append(\"Sir Inam\") # add element in last\n",
    "names.append(\"Sir Qasim\")# add element in last\n",
    "\n",
    "print(names)"
   ]
  },
  {
   "cell_type": "code",
   "execution_count": 30,
   "id": "3768c20a",
   "metadata": {},
   "outputs": [
    {
     "name": "stdout",
     "output_type": "stream",
     "text": [
      "['a', 'b', 'c', 'd']\n",
      "['a', 'Sir Qasim', 'b', 'c', 'd']\n"
     ]
    }
   ],
   "source": [
    "names : list[str] = ['a','b','c','d']\n",
    "\n",
    "print(names)\n",
    "\n",
    "names.insert(1, \"Sir Qasim\") # insert on perticular postion\n",
    "\n",
    "print(names)"
   ]
  },
  {
   "cell_type": "code",
   "execution_count": 31,
   "id": "732e53c6",
   "metadata": {},
   "outputs": [
    {
     "name": "stdout",
     "output_type": "stream",
     "text": [
      "Pakistan zinda bad\n",
      "None\n"
     ]
    }
   ],
   "source": [
    "print(print(\"Pakistan zinda bad\"))\n"
   ]
  },
  {
   "cell_type": "code",
   "execution_count": 32,
   "id": "1e8c848a",
   "metadata": {},
   "outputs": [
    {
     "name": "stdout",
     "output_type": "stream",
     "text": [
      "['a', 'b', 'c']\n",
      "['a', 'b', 'c']\n"
     ]
    }
   ],
   "source": [
    "a : list[str] = ['a','b','c']\n",
    "b = a\n",
    "\n",
    "print(a)\n",
    "print(b)"
   ]
  },
  {
   "cell_type": "code",
   "execution_count": 33,
   "id": "b7c09ab8",
   "metadata": {},
   "outputs": [
    {
     "name": "stdout",
     "output_type": "stream",
     "text": [
      "['a', 'b', 'c']\n",
      "['a', 'b', 'c']\n",
      "['pakistan', 'b', 'c']\n",
      "['pakistan', 'b', 'c']\n"
     ]
    }
   ],
   "source": [
    "a : list[str] = ['a','b','c']\n",
    "b = a # shallow copy\n",
    "print(a)\n",
    "print(b)\n",
    "\n",
    "b[0] = 'pakistan' # change only b variable but both variable updated\n",
    "\n",
    "print(a)\n",
    "print(b)"
   ]
  },
  {
   "cell_type": "code",
   "execution_count": 34,
   "id": "c01f6192",
   "metadata": {},
   "outputs": [
    {
     "name": "stdout",
     "output_type": "stream",
     "text": [
      "a ['a', 'b', 'c']\n",
      "b ['a', 'b', 'c']\n",
      "a ['a', 'b', 'c']\n",
      "b ['pakistan', 'b', 'c']\n"
     ]
    }
   ],
   "source": [
    "a : list[str] = ['a','b','c']\n",
    "b = a.copy() # Deep copy\n",
    "print(\"a\",a)\n",
    "print(\"b\",b)\n",
    "\n",
    "b[0] = 'pakistan' # change only b variable but both variable updated\n",
    "\n",
    "print(\"a\",a)\n",
    "print(\"b\",b)"
   ]
  },
  {
   "cell_type": "code",
   "execution_count": 35,
   "id": "6fdb7fc0",
   "metadata": {},
   "outputs": [
    {
     "name": "stdout",
     "output_type": "stream",
     "text": [
      "2\n",
      "3\n"
     ]
    }
   ],
   "source": [
    "# count\n",
    "names : list[str] = ['a','a','a','b','c','c']\n",
    "print(names.count(\"c\"))\n",
    "print(names.count(\"a\"))"
   ]
  },
  {
   "cell_type": "code",
   "execution_count": 36,
   "id": "5e41171f",
   "metadata": {},
   "outputs": [
    {
     "data": {
      "text/plain": [
       "['Sir Zia', 'Sir Muhammad Qasim', ['Sir Inam', 'Dr Noman']]"
      ]
     },
     "execution_count": 36,
     "metadata": {},
     "output_type": "execute_result"
    }
   ],
   "source": [
    "names : list[str] = [\"Sir Zia\",\"Sir Muhammad Qasim\"] # GenAI founder members\n",
    "\n",
    "new_faculty_members : list[str] = ['Sir Inam',\"Dr Noman\"]\n",
    "\n",
    "names.append(new_faculty_members)\n",
    "\n",
    "names"
   ]
  },
  {
   "cell_type": "code",
   "execution_count": 37,
   "id": "db2b4419",
   "metadata": {},
   "outputs": [
    {
     "data": {
      "text/plain": [
       "['Sir Zia', 'Sir Muhammad Qasim', 'Sir Inam', 'Dr Noman']"
      ]
     },
     "execution_count": 37,
     "metadata": {},
     "output_type": "execute_result"
    }
   ],
   "source": [
    "names : list[str] = [\"Sir Zia\",\"Sir Muhammad Qasim\"] # GenAI founder members\n",
    "\n",
    "new_faculty_members : list[str] = ['Sir Inam',\"Dr Noman\"]\n",
    "\n",
    "names.extend(new_faculty_members)\n",
    "\n",
    "names"
   ]
  },
  {
   "cell_type": "code",
   "execution_count": 38,
   "id": "d547c0f9",
   "metadata": {},
   "outputs": [
    {
     "data": {
      "text/plain": [
       "['Sir Zia', 'Dr Noman']"
      ]
     },
     "execution_count": 38,
     "metadata": {},
     "output_type": "execute_result"
    }
   ],
   "source": [
    "names : list[str] = [\"Sir Zia\",\"Sir Muhammad Qasim\",'Sir Inam',\"Dr Noman\"] # GenAI founder members\n",
    "\n",
    "\n",
    "del names[1:3]\n",
    "\n",
    "names"
   ]
  },
  {
   "cell_type": "code",
   "execution_count": 39,
   "id": "377e0342",
   "metadata": {},
   "outputs": [
    {
     "data": {
      "text/plain": [
       "['Sir Zia', 'Sir Inam', 'Dr Noman']"
      ]
     },
     "execution_count": 39,
     "metadata": {},
     "output_type": "execute_result"
    }
   ],
   "source": [
    "names :list[str] = ['Sir Zia', 'Sir Muhammad Qasim', 'Sir Inam', 'Dr Noman']\n",
    "\n",
    "names.remove(\"Sir Muhammad Qasim\") # remove with text value\n",
    "\n",
    "names"
   ]
  },
  {
   "cell_type": "code",
   "execution_count": 40,
   "id": "20a7085a",
   "metadata": {},
   "outputs": [
    {
     "data": {
      "text/plain": [
       "1"
      ]
     },
     "execution_count": 40,
     "metadata": {},
     "output_type": "execute_result"
    }
   ],
   "source": [
    "names :list[str] = ['Sir Zia', 'Sir Muhammad Qasim', 'Sir Inam', 'Dr Noman']\n",
    "\n",
    "names.index(\"Sir Muhammad Qasim\") # 1"
   ]
  },
  {
   "cell_type": "code",
   "execution_count": 41,
   "id": "56d2f3b9",
   "metadata": {},
   "outputs": [
    {
     "data": {
      "text/plain": [
       "1"
      ]
     },
     "execution_count": 41,
     "metadata": {},
     "output_type": "execute_result"
    }
   ],
   "source": [
    "names :list[str] = ['Sir Zia', 'Sir Muhammad Qasim', 'Sir Inam', 'Dr Noman',\"Sir Muhammad Qasim\"]\n",
    "\n",
    "names.index(\"Sir Muhammad Qasim\") # 1"
   ]
  },
  {
   "cell_type": "code",
   "execution_count": 42,
   "id": "be931b19",
   "metadata": {},
   "outputs": [
    {
     "data": {
      "text/plain": [
       "4"
      ]
     },
     "execution_count": 42,
     "metadata": {},
     "output_type": "execute_result"
    }
   ],
   "source": [
    "names :list[str] = ['Sir Zia', 'Sir Muhammad Qasim', 'Sir Inam', 'Dr Noman',\"Sir Muhammad Qasim\"]\n",
    "\n",
    "names.index(\"Sir Muhammad Qasim\",2) # 1"
   ]
  },
  {
   "cell_type": "code",
   "execution_count": 43,
   "id": "b47af441",
   "metadata": {},
   "outputs": [
    {
     "name": "stdout",
     "output_type": "stream",
     "text": [
      "['A', 'C', 'B', 'D', 'E', 'F']\n",
      "['F', 'E', 'D', 'B', 'C', 'A']\n"
     ]
    }
   ],
   "source": [
    "names :list[str] = list(\"ACBDEF\")\n",
    "print(names)\n",
    "names.reverse() #in-memory = change real data\n",
    "print(names)"
   ]
  },
  {
   "cell_type": "code",
   "execution_count": 44,
   "id": "fca97e48",
   "metadata": {},
   "outputs": [
    {
     "name": "stdout",
     "output_type": "stream",
     "text": [
      "['A', 'C', 'B', 'D', 'E', 'F']\n",
      "['A', 'B', 'C', 'D', 'E', 'F']\n"
     ]
    }
   ],
   "source": [
    "names :list[str] = list(\"ACBDEF\")\n",
    "print(names)\n",
    "names.sort() #in-memory = change real data sort\n",
    "print(names)"
   ]
  },
  {
   "cell_type": "code",
   "execution_count": 45,
   "id": "dc02fd5c",
   "metadata": {},
   "outputs": [
    {
     "name": "stdout",
     "output_type": "stream",
     "text": [
      "['A', 'C', 'B', 'D', 'E', 'F']\n",
      "['A', 'B', 'C', 'D', 'E', 'F']\n"
     ]
    }
   ],
   "source": [
    "names :list[str] = list(\"ACBDEF\")\n",
    "print(names)\n",
    "names.sort() #in-memory = change real data sort\n",
    "print(names)"
   ]
  },
  {
   "cell_type": "code",
   "execution_count": 46,
   "id": "4da2cf7a",
   "metadata": {},
   "outputs": [
    {
     "name": "stdout",
     "output_type": "stream",
     "text": [
      "['A', 'C', 'B', 'D', 'E', 'F']\n",
      "['F', 'E', 'D', 'C', 'B', 'A']\n"
     ]
    }
   ],
   "source": [
    "names :list[str] = list(\"ACBDEF\")\n",
    "print(names)\n",
    "names.sort(reverse=True) #in-memory = change real data sort\n",
    "print(names)"
   ]
  },
  {
   "cell_type": "code",
   "execution_count": 47,
   "id": "97aaf1d5",
   "metadata": {},
   "outputs": [
    {
     "name": "stdout",
     "output_type": "stream",
     "text": [
      "6\n"
     ]
    },
    {
     "ename": "IndexError",
     "evalue": "list index out of range",
     "output_type": "error",
     "traceback": [
      "\u001b[1;31m---------------------------------------------------------------------------\u001b[0m",
      "\u001b[1;31mIndexError\u001b[0m                                Traceback (most recent call last)",
      "Cell \u001b[1;32mIn[47], line 3\u001b[0m\n\u001b[0;32m      1\u001b[0m names :\u001b[38;5;28mlist\u001b[39m[\u001b[38;5;28mstr\u001b[39m] \u001b[38;5;241m=\u001b[39m \u001b[38;5;28mlist\u001b[39m(\u001b[38;5;124m\"\u001b[39m\u001b[38;5;124mACBDEF\u001b[39m\u001b[38;5;124m\"\u001b[39m)\n\u001b[0;32m      2\u001b[0m \u001b[38;5;28mprint\u001b[39m(\u001b[38;5;28mlen\u001b[39m(names))\n\u001b[1;32m----> 3\u001b[0m \u001b[43mnames\u001b[49m\u001b[43m[\u001b[49m\u001b[38;5;241;43m25\u001b[39;49m\u001b[43m]\u001b[49m\n",
      "\u001b[1;31mIndexError\u001b[0m: list index out of range"
     ]
    }
   ],
   "source": [
    "names :list[str] = list(\"ACBDEF\")\n",
    "print(len(names))\n",
    "names[25]"
   ]
  },
  {
   "cell_type": "markdown",
   "id": "79a15686",
   "metadata": {},
   "source": [
    "# Exercises Chapter 3"
   ]
  },
  {
   "cell_type": "markdown",
   "id": "4d69019f",
   "metadata": {},
   "source": [
    "Try these short programs to get some firsthand experience with Python’s lists. \n",
    "You might want to create a new folder for each chapter’s exercises, to keep \n",
    "them organized."
   ]
  },
  {
   "cell_type": "markdown",
   "id": "12acce96",
   "metadata": {},
   "source": [
    "3-1. Names: Store the names of a few of your friends in a list called names. Print each person’s name \n",
    "    by accessing each element in the list, one at a time."
   ]
  },
  {
   "cell_type": "code",
   "execution_count": 48,
   "id": "2bd57ff8",
   "metadata": {},
   "outputs": [
    {
     "name": "stdout",
     "output_type": "stream",
     "text": [
      "Sir Qasim\n",
      "Sir Zia\n",
      "Sir Inam\n"
     ]
    }
   ],
   "source": [
    "names : str = [\"Sir Qasim\",\"Sir Zia\",\"Sir Inam\"]\n",
    "print(names[0])\n",
    "print(names[1])\n",
    "print(names[2])\n"
   ]
  },
  {
   "cell_type": "markdown",
   "id": "e6e5fca3",
   "metadata": {},
   "source": [
    "3-2. Greetings: Start with the list you used in Exercise 3-1, but instead of just \n",
    "printing each person’s name, print a message to them. The text of each mes\u0002sage should be the same,\n",
    "but each message should be personalized with the person’s name."
   ]
  },
  {
   "cell_type": "code",
   "execution_count": 49,
   "id": "80440d75",
   "metadata": {},
   "outputs": [
    {
     "name": "stdout",
     "output_type": "stream",
     "text": [
      " Hello, How are you? Sir Qasim!\n",
      " Hello, How are you? Sir zia!\n",
      " Hello, How are you? sir inam!\n"
     ]
    }
   ],
   "source": [
    "names : str = [\"Sir Qasim\",\"Sir Zia\",\"Sir Inam\"]\n",
    "\n",
    "print(f\" Hello, How are you? {names[0].title()}!\")\n",
    "print(f\" Hello, How are you? {names[1].capitalize()}!\")\n",
    "print(f\" Hello, How are you? {names[2].lower()}!\")"
   ]
  },
  {
   "cell_type": "markdown",
   "id": "f7895b51",
   "metadata": {},
   "source": [
    "3-3. Your Own List: Think of your favorite mode of transportation, such as a \n",
    "motorcycle or a car, and make a list that stores several examples. Use your list \n",
    "to print a series of statements about these items, such as “I would like to own a \n",
    "Honda motorcycle.”"
   ]
  },
  {
   "cell_type": "code",
   "execution_count": 50,
   "id": "6cd9220b",
   "metadata": {},
   "outputs": [
    {
     "name": "stdout",
     "output_type": "stream",
     "text": [
      "  “I would like to own a Honda Motorcycle.” \n",
      "  “Car has become expensive transport due to inflation.” \n",
      "  “Cycle should be own by everyone now a days.” \n",
      "  “Public Bus is best and cheap option of Transportation.” \n"
     ]
    }
   ],
   "source": [
    "transports : str = [\"Motorcycle\", \"Car\", \"Cycle\", \"Bus\"]\n",
    "\n",
    "print(f\"\"\"  “I would like to own a Honda {transports[0].title()}.” \"\"\")\n",
    "print(f\"\"\"  “{transports[1].title()} has become expensive transport due to inflation.” \"\"\")\n",
    "print(f\"\"\"  “{transports[2].title()} should be own by everyone now a days.” \"\"\")\n",
    "print(f\"\"\"  “Public {transports[3].title()} is best and cheap option of Transportation.” \"\"\")"
   ]
  },
  {
   "cell_type": "markdown",
   "id": "3270736e",
   "metadata": {},
   "source": [
    "The following exercises are a bit more complex than those in Chapter 2, but \n",
    "they give you an opportunity to use lists in all of the ways described.\n",
    "3-4. Guest List: If you could invite anyone, living or deceased, to dinner, who \n",
    "would you invite? Make a list that includes at least three people you’d like to \n",
    "invite to dinner. Then use your list to print a message to each person, inviting \n",
    "them to dinner"
   ]
  },
  {
   "cell_type": "code",
   "execution_count": 51,
   "id": "a655ff7b",
   "metadata": {},
   "outputs": [
    {
     "name": "stdout",
     "output_type": "stream",
     "text": [
      "Sir Qasim, please come to dinner.\n",
      "Sir Zia, please come to dinner.\n",
      "Sir Inam, please come to dinner.\n"
     ]
    }
   ],
   "source": [
    "names : str = [\"Sir Qasim\",\"Sir Zia\",\"Sir Inam\"]\n",
    "\n",
    "print(f\"{names[0].title()}, please come to dinner.\")\n",
    "print(f\"{names[1].title()}, please come to dinner.\")\n",
    "print(f\"{names[2].title()}, please come to dinner.\")"
   ]
  },
  {
   "cell_type": "markdown",
   "id": "58c7b1e6",
   "metadata": {},
   "source": [
    "3-5. Changing Guest List: You just heard that one of your guests can’t make the \n",
    "dinner, so you need to send out a new set of invitations. You’ll have to think of \n",
    "someone else to invite.\n",
    "• Start with your program from Exercise 3-4. Add a print() call at the end of \n",
    "your program, stating the name of the guest who can’t make it.\n",
    "• Modify your list, replacing the name of the guest who can’t make it with the \n",
    "name of the new person you are inviting.\n",
    "• Print a second set of invitation messages, one for each person who is still in \n",
    "your list."
   ]
  },
  {
   "cell_type": "code",
   "execution_count": 52,
   "id": "23b49aa6",
   "metadata": {},
   "outputs": [
    {
     "name": "stdout",
     "output_type": "stream",
     "text": [
      "Sir Qasim, please come to dinner.\n",
      "Sir Zia, please come to dinner.\n",
      "Sir Inam, please come to dinner.\n",
      "\n",
      "Sorry, Sir Zia can't make it to dinner.\n",
      "\n",
      "Sir Qasim, please come to dinner.\n",
      "Sir Dr Nouman, please come to dinner.\n",
      "Sir Inam, please come to dinner.\n"
     ]
    }
   ],
   "source": [
    "names : str = [\"Sir Qasim\",\"Sir Zia\",\"Sir Inam\"]\n",
    "\n",
    "print(f\"{names[0].title()}, please come to dinner.\")\n",
    "print(f\"{names[1].title()}, please come to dinner.\")\n",
    "print(f\"{names[2].title()}, please come to dinner.\")\n",
    "\n",
    "print(f\"\\nSorry, {names[1].title()} can't make it to dinner.\")\n",
    "\n",
    "del(names[1])\n",
    "names.insert(1, 'Sir Dr Nouman')\n",
    "\n",
    "print(f\"\\n{names[0].title()}, please come to dinner.\")\n",
    "print(f\"{names[1].title()}, please come to dinner.\")\n",
    "print(f\"{names[2].title()}, please come to dinner.\")"
   ]
  },
  {
   "cell_type": "markdown",
   "id": "26468b09",
   "metadata": {},
   "source": [
    "3-6. More Guests: You just found a bigger dinner table, so now more space is \n",
    "available. Think of three more guests to invite to dinner.\n",
    "• Start with your program from Exercise 3-4 or 3-5. Add a print() call to the \n",
    "end of your program, informing people that you found a bigger table.\n",
    "• Use insert() to add one new guest to the beginning of your list.\n",
    "• Use insert() to add one new guest to the middle of your list.\n",
    "• Use append() to add one new guest to the end of your list.\n",
    "• Print a new set of invitation messages, one for each person in your list."
   ]
  },
  {
   "cell_type": "code",
   "execution_count": 53,
   "id": "bd65bec7",
   "metadata": {},
   "outputs": [
    {
     "name": "stdout",
     "output_type": "stream",
     "text": [
      "Sir Qasim, please come to dinner.\n",
      "Sir Inam, please come to dinner.\n",
      "Sir Zia, please come to dinner.\n",
      "\n",
      "Sorry, Sir Inam can't make it to dinner.\n",
      "\n",
      "Sir Qasim, please come to dinner.\n",
      "Sir Dr Nouman, please come to dinner.\n",
      "Sir Zia, please come to dinner.\n",
      "\n",
      "We got a bigger table!\n",
      "\n",
      "Sajid, please come to dinner.\n",
      "Sir Qasim, please come to dinner.\n",
      "Majid, please come to dinner.\n",
      "Sir Dr Nouman, please come to dinner.\n",
      "Sir Zia, please come to dinner.\n",
      "Rashid, please come to dinner.\n"
     ]
    }
   ],
   "source": [
    "names : str = [\"Sir Qasim\",\"Sir Inam\",\"Sir Zia\"]\n",
    "\n",
    "print(f\"{names[0].title()}, please come to dinner.\")\n",
    "print(f\"{names[1].title()}, please come to dinner.\")\n",
    "print(f\"{names[2].title()}, please come to dinner.\")\n",
    "\n",
    "print(f\"\\nSorry, {names[1].title()} can't make it to dinner.\")\n",
    "\n",
    "del(names[1])\n",
    "names.insert(1, 'Sir Dr Nouman')\n",
    "\n",
    "print(f\"\\n{names[0].title()}, please come to dinner.\")\n",
    "print(f\"{names[1].title()}, please come to dinner.\")\n",
    "print(f\"{names[2].title()}, please come to dinner.\")\n",
    "\n",
    "\n",
    "# We got a bigger table, so let's add some more people to the list.\n",
    "print(\"\\nWe got a bigger table!\")\n",
    "names.insert(0, 'Sajid')\n",
    "names.insert(2, 'Majid')\n",
    "names.append('Rashid')\n",
    "\n",
    "\n",
    "print(f\"\\n{names[0].title()}, please come to dinner.\")\n",
    "print(f\"{names[1].title()}, please come to dinner.\")\n",
    "print(f\"{names[2].title()}, please come to dinner.\")\n",
    "print(f\"{names[3].title()}, please come to dinner.\")\n",
    "print(f\"{names[4].title()}, please come to dinner.\")\n",
    "print(f\"{names[5].title()}, please come to dinner.\")\n"
   ]
  },
  {
   "cell_type": "markdown",
   "id": "00343a38",
   "metadata": {},
   "source": [
    "3-7. Shrinking Guest List: You just found out that your new dinner table won’t \n",
    "arrive in time for the dinner, and now you have space for only two guests.\n",
    "• Start with your program from Exercise 3-6. Add a new line that prints a \n",
    "message saying that you can invite only two people for dinner.\n",
    "• Use pop() to remove guests from your list one at a time until only two \n",
    "names remain in your list. Each time you pop a name from your list, print a \n",
    "message to that person letting them know you’re sorry you can’t invite them \n",
    "to dinner.\n",
    "• Print a message to each of the two people still on your list, letting them \n",
    "know they’re still invited.\n",
    "• Use del to remove the last two names from your list, so you have an empty \n",
    "list. Print your list to make sure you actually have an empty list at the end of \n",
    "your program."
   ]
  },
  {
   "cell_type": "code",
   "execution_count": 54,
   "id": "1e759319",
   "metadata": {},
   "outputs": [
    {
     "name": "stdout",
     "output_type": "stream",
     "text": [
      "Sir Qasim, please come to dinner.\n",
      "Sir Inam, please come to dinner.\n",
      "Sir Zia, please come to dinner.\n",
      "\n",
      "Sorry, Sir Inam can't make it to dinner.\n",
      "\n",
      "Sir Qasim, please come to dinner.\n",
      "Sir Dr Nouman, please come to dinner.\n",
      "Sir Zia, please come to dinner.\n",
      "\n",
      "We got a bigger table!\n",
      "\n",
      "Sajid, please come to dinner.\n",
      "Sir Qasim, please come to dinner.\n",
      "Majid, please come to dinner.\n",
      "Sir Dr Nouman, please come to dinner.\n",
      "Sir Zia, please come to dinner.\n",
      "Rashid, please come to dinner.\n",
      "\n",
      "Sorry, we can only invite two people to dinner.\n",
      "Sorry, Rashid there's no room at the table.\n",
      "Sorry, Sir Zia there's no room at the table.\n",
      "Sorry, Sir Dr Nouman there's no room at the table.\n",
      "Sajid, please come to dinner.\n",
      "Sir Qasim, please come to dinner.\n",
      "['Majid']\n"
     ]
    }
   ],
   "source": [
    "names : str = [\"Sir Qasim\",\"Sir Inam\",\"Sir Zia\"]\n",
    "\n",
    "print(f\"{names[0].title()}, please come to dinner.\")\n",
    "print(f\"{names[1].title()}, please come to dinner.\")\n",
    "print(f\"{names[2].title()}, please come to dinner.\")\n",
    "\n",
    "print(f\"\\nSorry, {names[1].title()} can't make it to dinner.\")\n",
    "\n",
    "del(names[1])\n",
    "names.insert(1, 'Sir Dr Nouman')\n",
    "\n",
    "print(f\"\\n{names[0].title()}, please come to dinner.\")\n",
    "print(f\"{names[1].title()}, please come to dinner.\")\n",
    "print(f\"{names[2].title()}, please come to dinner.\")\n",
    "\n",
    "\n",
    "# We got a bigger table, so let's add some more people to the list.\n",
    "print(\"\\nWe got a bigger table!\")\n",
    "names.insert(0, 'Sajid')\n",
    "names.insert(2, 'Majid')\n",
    "names.append('Rashid')\n",
    "\n",
    "\n",
    "print(f\"\\n{names[0].title()}, please come to dinner.\")\n",
    "print(f\"{names[1].title()}, please come to dinner.\")\n",
    "print(f\"{names[2].title()}, please come to dinner.\")\n",
    "print(f\"{names[3].title()}, please come to dinner.\")\n",
    "print(f\"{names[4].title()}, please come to dinner.\")\n",
    "print(f\"{names[5].title()}, please come to dinner.\")\n",
    "\n",
    "# Oh no, the table won't arrive on time!\n",
    "print(\"\\nSorry, we can only invite two people to dinner.\")\n",
    "\n",
    "name = names.pop()\n",
    "print(f\"Sorry, {name.title()} there's no room at the table.\")\n",
    "\n",
    "name = names.pop()\n",
    "print(f\"Sorry, {name.title()} there's no room at the table.\")\n",
    "\n",
    "name = names.pop()\n",
    "print(f\"Sorry, {name.title()} there's no room at the table.\")\n",
    "\n",
    "\n",
    "# There should be two people left. Let's invite them.\n",
    "name = names[0].title()\n",
    "print(f\"{name}, please come to dinner.\")\n",
    "\n",
    "name = names[1].title()\n",
    "print(f\"{name}, please come to dinner.\")\n",
    "\n",
    "# Empty out the list.\n",
    "del(names[0])\n",
    "del(names[0])\n",
    "\n",
    "# Prove the list is empty.\n",
    "print(names)"
   ]
  },
  {
   "cell_type": "markdown",
   "id": "f3e0ab56",
   "metadata": {},
   "source": [
    "3-8. Seeing the World: Think of at least five places in the world you’d like \n",
    "to visit.\n",
    "• Store the locations in a list. Make sure the list is not in alphabetical order.\n",
    "• Print your list in its original order. Don’t worry about printing the list neatly; \n",
    "just print it as a raw Python list.\n",
    "• Use sorted() to print your list in alphabetical order without modifying the \n",
    "actual list.\n",
    "• Show that your list is still in its original order by printing it.\n",
    "• Use sorted() to print your list in reverse-alphabetical order without chang\u0002ing the order of the original list.\n",
    "• Show that your list is still in its original order by printing it again.\n",
    "• Use reverse() to change the order of your list. Print the list to show that its \n",
    "order has changed.\n",
    "• Use reverse() to change the order of your list again. Print the list to show \n",
    "it’s back to its original order.\n",
    "• Use sort() to change your list so it’s stored in alphabetical order. Print the \n",
    "list to show that its order has been changed.\n",
    "• Use sort() to change your list so it’s stored in reverse-alphabetical order. \n",
    "Print the list to show that its order has changed."
   ]
  },
  {
   "cell_type": "code",
   "execution_count": 55,
   "id": "1db503d4",
   "metadata": {},
   "outputs": [
    {
     "name": "stdout",
     "output_type": "stream",
     "text": [
      "Original order:\n",
      "['Lahore', 'Karachi', 'Islamabad', 'Quetta', 'Peshawar']\n",
      "\n",
      "Alphabetical:\n",
      "['Islamabad', 'Karachi', 'Lahore', 'Peshawar', 'Quetta']\n",
      "\n",
      "Original order:\n",
      "['Lahore', 'Karachi', 'Islamabad', 'Quetta', 'Peshawar']\n",
      "\n",
      "Reverse alphabetical:\n",
      "['Quetta', 'Peshawar', 'Lahore', 'Karachi', 'Islamabad']\n",
      "\n",
      "Original order:\n",
      "['Lahore', 'Karachi', 'Islamabad', 'Quetta', 'Peshawar']\n",
      "\n",
      "Reversed:\n",
      "['Peshawar', 'Quetta', 'Islamabad', 'Karachi', 'Lahore']\n",
      "\n",
      "Original order:\n",
      "['Lahore', 'Karachi', 'Islamabad', 'Quetta', 'Peshawar']\n",
      "\n",
      "Alphabetical\n",
      "['Islamabad', 'Karachi', 'Lahore', 'Peshawar', 'Quetta']\n",
      "\n",
      "Reverse alphabetical\n",
      "['Quetta', 'Peshawar', 'Lahore', 'Karachi', 'Islamabad']\n"
     ]
    }
   ],
   "source": [
    "locations = ['Lahore', 'Karachi', 'Islamabad', 'Quetta', 'Peshawar']\n",
    "\n",
    "print(\"Original order:\")\n",
    "print(locations)\n",
    "\n",
    "print(\"\\nAlphabetical:\")\n",
    "print(sorted(locations))\n",
    "\n",
    "print(\"\\nOriginal order:\")\n",
    "print(locations)\n",
    "\n",
    "print(\"\\nReverse alphabetical:\")\n",
    "print(sorted(locations, reverse=True))\n",
    "\n",
    "print(\"\\nOriginal order:\")\n",
    "print(locations)\n",
    "\n",
    "print(\"\\nReversed:\")\n",
    "locations.reverse()\n",
    "print(locations)\n",
    "\n",
    "print(\"\\nOriginal order:\")\n",
    "locations.reverse()\n",
    "print(locations)\n",
    "\n",
    "print(\"\\nAlphabetical\")\n",
    "locations.sort()\n",
    "print(locations)\n",
    "\n",
    "print(\"\\nReverse alphabetical\")\n",
    "locations.sort(reverse=True)\n",
    "print(locations)"
   ]
  },
  {
   "cell_type": "markdown",
   "id": "d4668f88",
   "metadata": {},
   "source": [
    "3-9. Dinner Guests: Working with one of the programs from Exercises 3-4 \n",
    "through 3-7 (pages 41–42), use len() to print a message indicating the number \n",
    "of people you’re inviting to dinner."
   ]
  },
  {
   "cell_type": "code",
   "execution_count": 56,
   "id": "2bd41e1b",
   "metadata": {},
   "outputs": [
    {
     "name": "stdout",
     "output_type": "stream",
     "text": [
      "13\n",
      "['Fahad', 'Ali', 'M', 'Ali', 'Sajid', 'Majid', 'Rashid', 'Ratan', 'lal', 'Chaman', 'lal', 'Bilal', 'Tehseen']\n"
     ]
    }
   ],
   "source": [
    "friends = \"\"\"Fahad\n",
    "Ali\n",
    "M Ali\n",
    "Sajid\n",
    "Majid\n",
    "Rashid\n",
    "Ratan lal\n",
    "Chaman lal\n",
    "Bilal\n",
    "Tehseen\n",
    "\"\"\".split()\n",
    "print(len(friends))\n",
    "print(friends)"
   ]
  },
  {
   "cell_type": "markdown",
   "id": "dbd4fcb8",
   "metadata": {},
   "source": [
    "3-10. Every Function: Think of things you could store in a list. For example, you \n",
    "could make a list of mountains, rivers, countries, cities, languages, or anything \n",
    "else you’d like. Write a program that creates a list containing these items and \n",
    "then uses each function introduced in this chapter at least once.\n"
   ]
  },
  {
   "cell_type": "code",
   "execution_count": 57,
   "id": "1a9bccf8",
   "metadata": {},
   "outputs": [
    {
     "data": {
      "text/plain": [
       "['Zia',\n",
       " 'Sir',\n",
       " 'Sir',\n",
       " 'Sir',\n",
       " 'Sir',\n",
       " 'Quetta',\n",
       " 'Qasim',\n",
       " 'Qasim',\n",
       " 'Peshawar',\n",
       " 'Muhammad',\n",
       " 'Motorcycle',\n",
       " 'Lahore',\n",
       " 'Karachi',\n",
       " 'Islamabad',\n",
       " 'Inam',\n",
       " 'Cycle',\n",
       " 'Car',\n",
       " 'Bus']"
      ]
     },
     "execution_count": 57,
     "metadata": {},
     "output_type": "execute_result"
    }
   ],
   "source": [
    "list_stored = \"\"\"Lahore\n",
    "Karachi\n",
    "Islamabad\n",
    "Quetta\n",
    "Peshawar\n",
    "Sir Qasim\n",
    "Sir Inam\n",
    "Sir Zia\n",
    "Motorcycle\n",
    "Car\n",
    "Cycle\n",
    "Bus\n",
    "Sir Muhammad Qasim\"\"\".split()\n",
    "sorted(list_stored,reverse = True)\n"
   ]
  },
  {
   "cell_type": "code",
   "execution_count": 58,
   "id": "9425bd59",
   "metadata": {},
   "outputs": [],
   "source": [
    "list_stored.remove(\"Car\")"
   ]
  },
  {
   "cell_type": "code",
   "execution_count": 59,
   "id": "b5377006",
   "metadata": {},
   "outputs": [],
   "source": [
    "list_stored.append(\"Car\")"
   ]
  },
  {
   "cell_type": "code",
   "execution_count": 60,
   "id": "3e799e7b",
   "metadata": {},
   "outputs": [
    {
     "name": "stdout",
     "output_type": "stream",
     "text": [
      "None\n"
     ]
    }
   ],
   "source": [
    "print(list_stored.sort())\n",
    "l_s = list_stored.pop()\n",
    "list_stored.append(l_s)"
   ]
  },
  {
   "cell_type": "code",
   "execution_count": 61,
   "id": "64659e55",
   "metadata": {},
   "outputs": [
    {
     "data": {
      "text/plain": [
       "18"
      ]
     },
     "execution_count": 61,
     "metadata": {},
     "output_type": "execute_result"
    }
   ],
   "source": [
    "len(list_stored)"
   ]
  },
  {
   "cell_type": "code",
   "execution_count": 62,
   "id": "f9bdef69",
   "metadata": {},
   "outputs": [],
   "source": [
    "l_s = list_stored[15]"
   ]
  },
  {
   "cell_type": "code",
   "execution_count": 63,
   "id": "c37cc229",
   "metadata": {},
   "outputs": [],
   "source": [
    "list_stored.remove(l_s)\n",
    "list_stored.insert(15,l_s)"
   ]
  },
  {
   "cell_type": "code",
   "execution_count": 64,
   "id": "3eada85b",
   "metadata": {},
   "outputs": [
    {
     "name": "stdout",
     "output_type": "stream",
     "text": [
      "[]\n"
     ]
    }
   ],
   "source": [
    "del list_stored[:]\n",
    "print(list_stored)"
   ]
  },
  {
   "cell_type": "markdown",
   "id": "5a6ee3ea",
   "metadata": {},
   "source": [
    "3-11. Intentional Error: If you haven’t received an index error in one of your pro\u0002grams yet, try to make one happen.\n",
    "    Change an index in one of your programs to produce an index error. Make sure you correct the error before closing the \n",
    "program"
   ]
  },
  {
   "cell_type": "code",
   "execution_count": 66,
   "id": "d535d3e7",
   "metadata": {},
   "outputs": [
    {
     "ename": "IndentationError",
     "evalue": "unindent does not match any outer indentation level (<tokenize>, line 13)",
     "output_type": "error",
     "traceback": [
      "\u001b[1;36m  File \u001b[1;32m<tokenize>:13\u001b[1;36m\u001b[0m\n\u001b[1;33m    print(friends)\u001b[0m\n\u001b[1;37m    ^\u001b[0m\n\u001b[1;31mIndentationError\u001b[0m\u001b[1;31m:\u001b[0m unindent does not match any outer indentation level\n"
     ]
    }
   ],
   "source": [
    "friends : str = \"\"\"Fahad\n",
    "Ali\n",
    "M Ali\n",
    "Sajid\n",
    "Majid\n",
    "Rashid\n",
    "Ratan lal\n",
    "Chaman lal\n",
    "Bilal\n",
    "Tehseen\n",
    "\"\"\".split()\n",
    "  print(len(friends))\n",
    " print(friends)"
   ]
  },
  {
   "cell_type": "code",
   "execution_count": 67,
   "id": "b7f5f890",
   "metadata": {},
   "outputs": [
    {
     "name": "stdout",
     "output_type": "stream",
     "text": [
      "6\n"
     ]
    },
    {
     "ename": "IndexError",
     "evalue": "list index out of range",
     "output_type": "error",
     "traceback": [
      "\u001b[1;31m---------------------------------------------------------------------------\u001b[0m",
      "\u001b[1;31mIndexError\u001b[0m                                Traceback (most recent call last)",
      "Cell \u001b[1;32mIn[67], line 3\u001b[0m\n\u001b[0;32m      1\u001b[0m names :\u001b[38;5;28mlist\u001b[39m[\u001b[38;5;28mstr\u001b[39m] \u001b[38;5;241m=\u001b[39m \u001b[38;5;28mlist\u001b[39m(\u001b[38;5;124m\"\u001b[39m\u001b[38;5;124mACBDEF\u001b[39m\u001b[38;5;124m\"\u001b[39m)\n\u001b[0;32m      2\u001b[0m \u001b[38;5;28mprint\u001b[39m(\u001b[38;5;28mlen\u001b[39m(names))\n\u001b[1;32m----> 3\u001b[0m \u001b[43mnames\u001b[49m\u001b[43m[\u001b[49m\u001b[38;5;241;43m25\u001b[39;49m\u001b[43m]\u001b[49m\n",
      "\u001b[1;31mIndexError\u001b[0m: list index out of range"
     ]
    }
   ],
   "source": [
    "names :list[str] = list(\"ACBDEF\")\n",
    "print(len(names))\n",
    "names[25]"
   ]
  }
 ],
 "metadata": {
  "kernelspec": {
   "display_name": "Python 3 (ipykernel)",
   "language": "python",
   "name": "python3"
  },
  "language_info": {
   "codemirror_mode": {
    "name": "ipython",
    "version": 3
   },
   "file_extension": ".py",
   "mimetype": "text/x-python",
   "name": "python",
   "nbconvert_exporter": "python",
   "pygments_lexer": "ipython3",
   "version": "3.10.9"
  }
 },
 "nbformat": 4,
 "nbformat_minor": 5
}
