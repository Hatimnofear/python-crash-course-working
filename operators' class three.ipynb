{
 "cells": [
  {
   "cell_type": "markdown",
   "id": "f92b964f",
   "metadata": {},
   "source": [
    "# Python divides the operators in the following groups:"
   ]
  },
  {
   "cell_type": "raw",
   "id": "ed731612",
   "metadata": {},
   "source": [
    "Arithmetic operators\n",
    "Assignment operators\n",
    "Comparison operators\n",
    "Logical operators\n",
    "Identity operators\n",
    "Membership operators\n",
    "Bitwise operators"
   ]
  },
  {
   "cell_type": "code",
   "execution_count": 1,
   "id": "2ff017cc",
   "metadata": {},
   "outputs": [],
   "source": [
    "#!conda install lxml -y"
   ]
  },
  {
   "cell_type": "code",
   "execution_count": 2,
   "id": "846fc35d",
   "metadata": {},
   "outputs": [],
   "source": [
    "#conda update -n base -c defaults conda"
   ]
  },
  {
   "cell_type": "markdown",
   "id": "3390f548",
   "metadata": {},
   "source": [
    "# Python Arithmetic Operators"
   ]
  },
  {
   "cell_type": "code",
   "execution_count": 3,
   "id": "062f7bad",
   "metadata": {},
   "outputs": [
    {
     "data": {
      "text/html": [
       "<div>\n",
       "<style scoped>\n",
       "    .dataframe tbody tr th:only-of-type {\n",
       "        vertical-align: middle;\n",
       "    }\n",
       "\n",
       "    .dataframe tbody tr th {\n",
       "        vertical-align: top;\n",
       "    }\n",
       "\n",
       "    .dataframe thead th {\n",
       "        text-align: right;\n",
       "    }\n",
       "</style>\n",
       "<table border=\"1\" class=\"dataframe\">\n",
       "  <thead>\n",
       "    <tr style=\"text-align: right;\">\n",
       "      <th></th>\n",
       "      <th>Operator</th>\n",
       "      <th>Name</th>\n",
       "      <th>Example</th>\n",
       "      <th>Try it</th>\n",
       "    </tr>\n",
       "  </thead>\n",
       "  <tbody>\n",
       "    <tr>\n",
       "      <th>0</th>\n",
       "      <td>+</td>\n",
       "      <td>Addition</td>\n",
       "      <td>x + y</td>\n",
       "      <td>Try it »</td>\n",
       "    </tr>\n",
       "    <tr>\n",
       "      <th>1</th>\n",
       "      <td>-</td>\n",
       "      <td>Subtraction</td>\n",
       "      <td>x - y</td>\n",
       "      <td>Try it »</td>\n",
       "    </tr>\n",
       "    <tr>\n",
       "      <th>2</th>\n",
       "      <td>*</td>\n",
       "      <td>Multiplication</td>\n",
       "      <td>x * y</td>\n",
       "      <td>Try it »</td>\n",
       "    </tr>\n",
       "    <tr>\n",
       "      <th>3</th>\n",
       "      <td>/</td>\n",
       "      <td>Division</td>\n",
       "      <td>x / y</td>\n",
       "      <td>Try it »</td>\n",
       "    </tr>\n",
       "    <tr>\n",
       "      <th>4</th>\n",
       "      <td>%</td>\n",
       "      <td>Modulus</td>\n",
       "      <td>x % y</td>\n",
       "      <td>Try it »</td>\n",
       "    </tr>\n",
       "    <tr>\n",
       "      <th>5</th>\n",
       "      <td>**</td>\n",
       "      <td>Exponentiation</td>\n",
       "      <td>x ** y</td>\n",
       "      <td>Try it »</td>\n",
       "    </tr>\n",
       "    <tr>\n",
       "      <th>6</th>\n",
       "      <td>//</td>\n",
       "      <td>Floor division</td>\n",
       "      <td>x // y</td>\n",
       "      <td>Try it »</td>\n",
       "    </tr>\n",
       "  </tbody>\n",
       "</table>\n",
       "</div>"
      ],
      "text/plain": [
       "  Operator            Name Example    Try it\n",
       "0        +        Addition   x + y  Try it »\n",
       "1        -     Subtraction   x - y  Try it »\n",
       "2        *  Multiplication   x * y  Try it »\n",
       "3        /        Division   x / y  Try it »\n",
       "4        %         Modulus   x % y  Try it »\n",
       "5       **  Exponentiation  x ** y  Try it »\n",
       "6       //  Floor division  x // y  Try it »"
      ]
     },
     "execution_count": 3,
     "metadata": {},
     "output_type": "execute_result"
    }
   ],
   "source": [
    "# !pip install pandas\n",
    "import pandas as pd\n",
    "\n",
    "table = pd.read_html('https://www.w3schools.com/python/python_operators.asp')\n",
    "table[0]"
   ]
  },
  {
   "cell_type": "code",
   "execution_count": 4,
   "id": "773c8cde",
   "metadata": {},
   "outputs": [
    {
     "name": "stdout",
     "output_type": "stream",
     "text": [
      "9\n",
      "5\n",
      "14\n",
      "3.5\n"
     ]
    }
   ],
   "source": [
    "a : int = 7\n",
    "b : int = 2\n",
    "\n",
    "print(a + b) # addtition\n",
    "print(a - b) # subtraction\n",
    "print(a * b)\n",
    "print(a / b) # division"
   ]
  },
  {
   "cell_type": "code",
   "execution_count": 5,
   "id": "5674b1dd",
   "metadata": {},
   "outputs": [
    {
     "name": "stdout",
     "output_type": "stream",
     "text": [
      "2\n"
     ]
    }
   ],
   "source": [
    "a : int = 11\n",
    "b : int = 3\n",
    "\n",
    "print(a % 3)"
   ]
  },
  {
   "cell_type": "code",
   "execution_count": 6,
   "id": "743ab5c6",
   "metadata": {},
   "outputs": [
    {
     "name": "stdout",
     "output_type": "stream",
     "text": [
      "4\n",
      "8\n"
     ]
    }
   ],
   "source": [
    "print(2**2)\n",
    "print(2**3)"
   ]
  },
  {
   "cell_type": "code",
   "execution_count": 7,
   "id": "5501da74",
   "metadata": {},
   "outputs": [
    {
     "name": "stdout",
     "output_type": "stream",
     "text": [
      "4.0\n"
     ]
    }
   ],
   "source": [
    "print(12 / 3)"
   ]
  },
  {
   "cell_type": "code",
   "execution_count": 8,
   "id": "feb84920",
   "metadata": {},
   "outputs": [
    {
     "name": "stdout",
     "output_type": "stream",
     "text": [
      "4.933333333333334\n"
     ]
    }
   ],
   "source": [
    "print(14.8 / 3)"
   ]
  },
  {
   "cell_type": "code",
   "execution_count": 9,
   "id": "0c995a4d",
   "metadata": {},
   "outputs": [
    {
     "name": "stdout",
     "output_type": "stream",
     "text": [
      "4.0\n"
     ]
    }
   ],
   "source": [
    "print( 14.8 // 3)"
   ]
  },
  {
   "cell_type": "code",
   "execution_count": 10,
   "id": "319dee9c",
   "metadata": {},
   "outputs": [
    {
     "name": "stdout",
     "output_type": "stream",
     "text": [
      "4\n"
     ]
    }
   ],
   "source": [
    "print( 14 // 3)"
   ]
  },
  {
   "cell_type": "markdown",
   "id": "418b35e7",
   "metadata": {},
   "source": [
    "# Python Assignment Operators"
   ]
  },
  {
   "cell_type": "code",
   "execution_count": 11,
   "id": "f86e00eb",
   "metadata": {},
   "outputs": [
    {
     "data": {
      "text/html": [
       "<div>\n",
       "<style scoped>\n",
       "    .dataframe tbody tr th:only-of-type {\n",
       "        vertical-align: middle;\n",
       "    }\n",
       "\n",
       "    .dataframe tbody tr th {\n",
       "        vertical-align: top;\n",
       "    }\n",
       "\n",
       "    .dataframe thead th {\n",
       "        text-align: right;\n",
       "    }\n",
       "</style>\n",
       "<table border=\"1\" class=\"dataframe\">\n",
       "  <thead>\n",
       "    <tr style=\"text-align: right;\">\n",
       "      <th></th>\n",
       "      <th>Operator</th>\n",
       "      <th>Example</th>\n",
       "      <th>Same As</th>\n",
       "      <th>Try it</th>\n",
       "    </tr>\n",
       "  </thead>\n",
       "  <tbody>\n",
       "    <tr>\n",
       "      <th>0</th>\n",
       "      <td>=</td>\n",
       "      <td>x = 5</td>\n",
       "      <td>x = 5</td>\n",
       "      <td>Try it »</td>\n",
       "    </tr>\n",
       "    <tr>\n",
       "      <th>1</th>\n",
       "      <td>+=</td>\n",
       "      <td>x += 3</td>\n",
       "      <td>x = x + 3</td>\n",
       "      <td>Try it »</td>\n",
       "    </tr>\n",
       "    <tr>\n",
       "      <th>2</th>\n",
       "      <td>-=</td>\n",
       "      <td>x -= 3</td>\n",
       "      <td>x = x - 3</td>\n",
       "      <td>Try it »</td>\n",
       "    </tr>\n",
       "    <tr>\n",
       "      <th>3</th>\n",
       "      <td>*=</td>\n",
       "      <td>x *= 3</td>\n",
       "      <td>x = x * 3</td>\n",
       "      <td>Try it »</td>\n",
       "    </tr>\n",
       "    <tr>\n",
       "      <th>4</th>\n",
       "      <td>/=</td>\n",
       "      <td>x /= 3</td>\n",
       "      <td>x = x / 3</td>\n",
       "      <td>Try it »</td>\n",
       "    </tr>\n",
       "    <tr>\n",
       "      <th>5</th>\n",
       "      <td>%=</td>\n",
       "      <td>x %= 3</td>\n",
       "      <td>x = x % 3</td>\n",
       "      <td>Try it »</td>\n",
       "    </tr>\n",
       "    <tr>\n",
       "      <th>6</th>\n",
       "      <td>//=</td>\n",
       "      <td>x //= 3</td>\n",
       "      <td>x = x // 3</td>\n",
       "      <td>Try it »</td>\n",
       "    </tr>\n",
       "    <tr>\n",
       "      <th>7</th>\n",
       "      <td>**=</td>\n",
       "      <td>x **= 3</td>\n",
       "      <td>x = x ** 3</td>\n",
       "      <td>Try it »</td>\n",
       "    </tr>\n",
       "    <tr>\n",
       "      <th>8</th>\n",
       "      <td>&amp;=</td>\n",
       "      <td>x &amp;= 3</td>\n",
       "      <td>x = x &amp; 3</td>\n",
       "      <td>Try it »</td>\n",
       "    </tr>\n",
       "    <tr>\n",
       "      <th>9</th>\n",
       "      <td>|=</td>\n",
       "      <td>x |= 3</td>\n",
       "      <td>x = x | 3</td>\n",
       "      <td>Try it »</td>\n",
       "    </tr>\n",
       "    <tr>\n",
       "      <th>10</th>\n",
       "      <td>^=</td>\n",
       "      <td>x ^= 3</td>\n",
       "      <td>x = x ^ 3</td>\n",
       "      <td>Try it »</td>\n",
       "    </tr>\n",
       "    <tr>\n",
       "      <th>11</th>\n",
       "      <td>&gt;&gt;=</td>\n",
       "      <td>x &gt;&gt;= 3</td>\n",
       "      <td>x = x &gt;&gt; 3</td>\n",
       "      <td>Try it »</td>\n",
       "    </tr>\n",
       "    <tr>\n",
       "      <th>12</th>\n",
       "      <td>&lt;&lt;=</td>\n",
       "      <td>x &lt;&lt;= 3</td>\n",
       "      <td>x = x &lt;&lt; 3</td>\n",
       "      <td>Try it »</td>\n",
       "    </tr>\n",
       "  </tbody>\n",
       "</table>\n",
       "</div>"
      ],
      "text/plain": [
       "   Operator  Example     Same As    Try it\n",
       "0         =    x = 5       x = 5  Try it »\n",
       "1        +=   x += 3   x = x + 3  Try it »\n",
       "2        -=   x -= 3   x = x - 3  Try it »\n",
       "3        *=   x *= 3   x = x * 3  Try it »\n",
       "4        /=   x /= 3   x = x / 3  Try it »\n",
       "5        %=   x %= 3   x = x % 3  Try it »\n",
       "6       //=  x //= 3  x = x // 3  Try it »\n",
       "7       **=  x **= 3  x = x ** 3  Try it »\n",
       "8        &=   x &= 3   x = x & 3  Try it »\n",
       "9        |=   x |= 3   x = x | 3  Try it »\n",
       "10       ^=   x ^= 3   x = x ^ 3  Try it »\n",
       "11      >>=  x >>= 3  x = x >> 3  Try it »\n",
       "12      <<=  x <<= 3  x = x << 3  Try it »"
      ]
     },
     "execution_count": 11,
     "metadata": {},
     "output_type": "execute_result"
    }
   ],
   "source": [
    "table[1]"
   ]
  },
  {
   "cell_type": "code",
   "execution_count": 12,
   "id": "ef458aa0",
   "metadata": {},
   "outputs": [
    {
     "name": "stdout",
     "output_type": "stream",
     "text": [
      "7\n"
     ]
    }
   ],
   "source": [
    "a : int = 7\n",
    "print(b := 7)"
   ]
  },
  {
   "cell_type": "code",
   "execution_count": 13,
   "id": "5ffe9aab",
   "metadata": {},
   "outputs": [],
   "source": [
    "# = assign\n",
    "a : int = 7\n",
    "b : int = 2"
   ]
  },
  {
   "cell_type": "code",
   "execution_count": 14,
   "id": "bc99b251",
   "metadata": {},
   "outputs": [
    {
     "name": "stdout",
     "output_type": "stream",
     "text": [
      "7\n",
      "9\n"
     ]
    }
   ],
   "source": [
    "# +=\n",
    "a : int = 7\n",
    "print(a)\n",
    "a = a + 2\n",
    "print(a)"
   ]
  },
  {
   "cell_type": "code",
   "execution_count": 15,
   "id": "991a917c",
   "metadata": {},
   "outputs": [
    {
     "name": "stdout",
     "output_type": "stream",
     "text": [
      "7\n",
      "9\n"
     ]
    }
   ],
   "source": [
    "# +=\n",
    "a : int = 7\n",
    "print(a)\n",
    "a += 2\n",
    "print(a)"
   ]
  },
  {
   "cell_type": "code",
   "execution_count": 16,
   "id": "59a909ab",
   "metadata": {},
   "outputs": [
    {
     "name": "stdout",
     "output_type": "stream",
     "text": [
      "7\n",
      "5\n"
     ]
    }
   ],
   "source": [
    "a : int = 7\n",
    "print(a)\n",
    "a -= 2\n",
    "print(a)"
   ]
  },
  {
   "cell_type": "markdown",
   "id": "a705c4f7",
   "metadata": {},
   "source": [
    "# Python Comparison Operators"
   ]
  },
  {
   "cell_type": "code",
   "execution_count": 17,
   "id": "d25e58e7",
   "metadata": {},
   "outputs": [
    {
     "data": {
      "text/html": [
       "<div>\n",
       "<style scoped>\n",
       "    .dataframe tbody tr th:only-of-type {\n",
       "        vertical-align: middle;\n",
       "    }\n",
       "\n",
       "    .dataframe tbody tr th {\n",
       "        vertical-align: top;\n",
       "    }\n",
       "\n",
       "    .dataframe thead th {\n",
       "        text-align: right;\n",
       "    }\n",
       "</style>\n",
       "<table border=\"1\" class=\"dataframe\">\n",
       "  <thead>\n",
       "    <tr style=\"text-align: right;\">\n",
       "      <th></th>\n",
       "      <th>Operator</th>\n",
       "      <th>Name</th>\n",
       "      <th>Example</th>\n",
       "      <th>Try it</th>\n",
       "    </tr>\n",
       "  </thead>\n",
       "  <tbody>\n",
       "    <tr>\n",
       "      <th>0</th>\n",
       "      <td>==</td>\n",
       "      <td>Equal</td>\n",
       "      <td>x == y</td>\n",
       "      <td>Try it »</td>\n",
       "    </tr>\n",
       "    <tr>\n",
       "      <th>1</th>\n",
       "      <td>!=</td>\n",
       "      <td>Not equal</td>\n",
       "      <td>x != y</td>\n",
       "      <td>Try it »</td>\n",
       "    </tr>\n",
       "    <tr>\n",
       "      <th>2</th>\n",
       "      <td>&gt;</td>\n",
       "      <td>Greater than</td>\n",
       "      <td>x &gt; y</td>\n",
       "      <td>Try it »</td>\n",
       "    </tr>\n",
       "    <tr>\n",
       "      <th>3</th>\n",
       "      <td>&lt;</td>\n",
       "      <td>Less than</td>\n",
       "      <td>x &lt; y</td>\n",
       "      <td>Try it »</td>\n",
       "    </tr>\n",
       "    <tr>\n",
       "      <th>4</th>\n",
       "      <td>&gt;=</td>\n",
       "      <td>Greater than or equal to</td>\n",
       "      <td>x &gt;= y</td>\n",
       "      <td>Try it »</td>\n",
       "    </tr>\n",
       "    <tr>\n",
       "      <th>5</th>\n",
       "      <td>&lt;=</td>\n",
       "      <td>Less than or equal to</td>\n",
       "      <td>x &lt;= y</td>\n",
       "      <td>Try it »</td>\n",
       "    </tr>\n",
       "  </tbody>\n",
       "</table>\n",
       "</div>"
      ],
      "text/plain": [
       "  Operator                      Name Example    Try it\n",
       "0       ==                     Equal  x == y  Try it »\n",
       "1       !=                 Not equal  x != y  Try it »\n",
       "2        >              Greater than   x > y  Try it »\n",
       "3        <                 Less than   x < y  Try it »\n",
       "4       >=  Greater than or equal to  x >= y  Try it »\n",
       "5       <=     Less than or equal to  x <= y  Try it »"
      ]
     },
     "execution_count": 17,
     "metadata": {},
     "output_type": "execute_result"
    }
   ],
   "source": [
    "table[2]\n"
   ]
  },
  {
   "cell_type": "code",
   "execution_count": 18,
   "id": "e6fcbb3b",
   "metadata": {},
   "outputs": [
    {
     "name": "stdout",
     "output_type": "stream",
     "text": [
      "False\n"
     ]
    }
   ],
   "source": [
    "a : int = 7\n",
    "b : int = 10\n",
    "\n",
    "print( a == b )\n",
    "# a == b\n",
    "# 7 == 10\n",
    "# False"
   ]
  },
  {
   "cell_type": "code",
   "execution_count": 19,
   "id": "d7470ff4",
   "metadata": {},
   "outputs": [
    {
     "name": "stdout",
     "output_type": "stream",
     "text": [
      "True\n"
     ]
    }
   ],
   "source": [
    "a : int = 7\n",
    "b : int = 7\n",
    "\n",
    "print( a == b )\n",
    "# a == b\n",
    "# 7 == 7\n",
    "# True"
   ]
  },
  {
   "cell_type": "code",
   "execution_count": 20,
   "id": "8fa01d97",
   "metadata": {},
   "outputs": [
    {
     "name": "stdout",
     "output_type": "stream",
     "text": [
      "False\n"
     ]
    }
   ],
   "source": [
    "a : int = 7\n",
    "b : str = '7'\n",
    "\n",
    "print(a == b)\n",
    "# a == b\n",
    "# 7 == 7\n",
    "# True"
   ]
  },
  {
   "cell_type": "code",
   "execution_count": 21,
   "id": "9a7c4e13",
   "metadata": {},
   "outputs": [
    {
     "name": "stdout",
     "output_type": "stream",
     "text": [
      "False\n"
     ]
    }
   ],
   "source": [
    "# !=\n",
    "a : int = 7\n",
    "b : int = 7\n",
    "\n",
    "print( a != b )\n",
    "# a == b\n",
    "# 7 == 7\n",
    "# False"
   ]
  },
  {
   "cell_type": "code",
   "execution_count": 22,
   "id": "1cf816f3",
   "metadata": {},
   "outputs": [
    {
     "name": "stdout",
     "output_type": "stream",
     "text": [
      "False\n"
     ]
    }
   ],
   "source": [
    "# !=\n",
    "a : int = 7\n",
    "b : int = 8\n",
    "\n",
    "print(a > b)\n",
    "# a > b\n",
    "# 7 > 8\n",
    "# False"
   ]
  },
  {
   "cell_type": "code",
   "execution_count": 23,
   "id": "1c5a2304",
   "metadata": {},
   "outputs": [
    {
     "name": "stdout",
     "output_type": "stream",
     "text": [
      "False\n"
     ]
    }
   ],
   "source": [
    "# !=\n",
    "a : int = 7\n",
    "b : int = 7\n",
    "\n",
    "print(a > b)\n",
    "# a > b\n",
    "# 7 > 8\n",
    "# False"
   ]
  },
  {
   "cell_type": "code",
   "execution_count": 24,
   "id": "fea5e891",
   "metadata": {},
   "outputs": [
    {
     "name": "stdout",
     "output_type": "stream",
     "text": [
      "True\n"
     ]
    }
   ],
   "source": [
    "# !=\n",
    "a : int = 10\n",
    "b : int = 8\n",
    "\n",
    "print(a > b)\n",
    "# a > b\n",
    "# 10 > 8\n",
    "# False"
   ]
  },
  {
   "cell_type": "code",
   "execution_count": 25,
   "id": "819e35e7",
   "metadata": {},
   "outputs": [
    {
     "name": "stdout",
     "output_type": "stream",
     "text": [
      "False\n"
     ]
    }
   ],
   "source": [
    "# !=\n",
    "a : int = 10\n",
    "b : int = 8\n",
    "\n",
    "print(a < b)\n",
    "# a < b\n",
    "# 10 < 8\n",
    "# False"
   ]
  },
  {
   "cell_type": "code",
   "execution_count": 26,
   "id": "801510bb",
   "metadata": {},
   "outputs": [
    {
     "name": "stdout",
     "output_type": "stream",
     "text": [
      "False\n"
     ]
    }
   ],
   "source": [
    "# !=\n",
    "a : int = 2\n",
    "b : int = 7\n",
    "\n",
    "print(a >= b)"
   ]
  },
  {
   "cell_type": "code",
   "execution_count": 27,
   "id": "9b5146e2",
   "metadata": {},
   "outputs": [
    {
     "name": "stdout",
     "output_type": "stream",
     "text": [
      "True\n"
     ]
    }
   ],
   "source": [
    "# !=\n",
    "a : int = 7\n",
    "b : int = 7\n",
    "\n",
    "print(a >= b)"
   ]
  },
  {
   "cell_type": "code",
   "execution_count": 28,
   "id": "afd35649",
   "metadata": {},
   "outputs": [
    {
     "name": "stdout",
     "output_type": "stream",
     "text": [
      "True\n"
     ]
    }
   ],
   "source": [
    "# !=\n",
    "a : int = 7\n",
    "b : int = 7\n",
    "\n",
    "print(a <= b)"
   ]
  },
  {
   "cell_type": "code",
   "execution_count": 29,
   "id": "9b6f70c9",
   "metadata": {},
   "outputs": [
    {
     "ename": "SyntaxError",
     "evalue": "invalid syntax (2966280906.py, line 5)",
     "output_type": "error",
     "traceback": [
      "\u001b[1;36m  Cell \u001b[1;32mIn[29], line 5\u001b[1;36m\u001b[0m\n\u001b[1;33m    print(a => b)\u001b[0m\n\u001b[1;37m             ^\u001b[0m\n\u001b[1;31mSyntaxError\u001b[0m\u001b[1;31m:\u001b[0m invalid syntax\n"
     ]
    }
   ],
   "source": [
    "# !=\n",
    "a : int = 7\n",
    "b : int = 7\n",
    "\n",
    "print(a => b)"
   ]
  },
  {
   "cell_type": "code",
   "execution_count": 30,
   "id": "116cf74d",
   "metadata": {},
   "outputs": [
    {
     "data": {
      "text/plain": [
       "65"
      ]
     },
     "execution_count": 30,
     "metadata": {},
     "output_type": "execute_result"
    }
   ],
   "source": [
    "ord('A')\n"
   ]
  },
  {
   "cell_type": "code",
   "execution_count": 31,
   "id": "0daa32d7",
   "metadata": {},
   "outputs": [
    {
     "data": {
      "text/plain": [
       "'A'"
      ]
     },
     "execution_count": 31,
     "metadata": {},
     "output_type": "execute_result"
    }
   ],
   "source": [
    "chr(65)"
   ]
  },
  {
   "cell_type": "code",
   "execution_count": 32,
   "id": "27cdc3f8",
   "metadata": {},
   "outputs": [
    {
     "name": "stdout",
     "output_type": "stream",
     "text": [
      "True\n"
     ]
    }
   ],
   "source": [
    "a : str = 'A'\n",
    "b : str = 'B'\n",
    "\n",
    "print(b >= a)"
   ]
  },
  {
   "cell_type": "code",
   "execution_count": 33,
   "id": "87846a24",
   "metadata": {},
   "outputs": [
    {
     "name": "stdout",
     "output_type": "stream",
     "text": [
      "True\n"
     ]
    }
   ],
   "source": [
    "a : str = 'A'\n",
    "b : str = 'a' \n",
    "\n",
    "print(b >= a)"
   ]
  },
  {
   "cell_type": "markdown",
   "id": "487039ad",
   "metadata": {},
   "source": [
    "# Python Logical Operators\n"
   ]
  },
  {
   "cell_type": "code",
   "execution_count": 34,
   "id": "7af995fa",
   "metadata": {},
   "outputs": [
    {
     "data": {
      "text/html": [
       "<div>\n",
       "<style scoped>\n",
       "    .dataframe tbody tr th:only-of-type {\n",
       "        vertical-align: middle;\n",
       "    }\n",
       "\n",
       "    .dataframe tbody tr th {\n",
       "        vertical-align: top;\n",
       "    }\n",
       "\n",
       "    .dataframe thead th {\n",
       "        text-align: right;\n",
       "    }\n",
       "</style>\n",
       "<table border=\"1\" class=\"dataframe\">\n",
       "  <thead>\n",
       "    <tr style=\"text-align: right;\">\n",
       "      <th></th>\n",
       "      <th>Operator</th>\n",
       "      <th>Description</th>\n",
       "      <th>Example</th>\n",
       "      <th>Try it</th>\n",
       "    </tr>\n",
       "  </thead>\n",
       "  <tbody>\n",
       "    <tr>\n",
       "      <th>0</th>\n",
       "      <td>and</td>\n",
       "      <td>Returns True if both statements are true</td>\n",
       "      <td>x &lt; 5 and x &lt; 10</td>\n",
       "      <td>Try it »</td>\n",
       "    </tr>\n",
       "    <tr>\n",
       "      <th>1</th>\n",
       "      <td>or</td>\n",
       "      <td>Returns True if one of the statements is true</td>\n",
       "      <td>x &lt; 5 or x &lt; 4</td>\n",
       "      <td>Try it »</td>\n",
       "    </tr>\n",
       "    <tr>\n",
       "      <th>2</th>\n",
       "      <td>not</td>\n",
       "      <td>Reverse the result, returns False if the resul...</td>\n",
       "      <td>not(x &lt; 5 and x &lt; 10)</td>\n",
       "      <td>Try it »</td>\n",
       "    </tr>\n",
       "  </tbody>\n",
       "</table>\n",
       "</div>"
      ],
      "text/plain": [
       "  Operator                                        Description  \\\n",
       "0      and           Returns True if both statements are true   \n",
       "1       or      Returns True if one of the statements is true   \n",
       "2      not  Reverse the result, returns False if the resul...   \n",
       "\n",
       "                 Example    Try it  \n",
       "0       x < 5 and x < 10  Try it »  \n",
       "1         x < 5 or x < 4  Try it »  \n",
       "2  not(x < 5 and x < 10)  Try it »  "
      ]
     },
     "execution_count": 34,
     "metadata": {},
     "output_type": "execute_result"
    }
   ],
   "source": [
    "table[3]\n"
   ]
  },
  {
   "cell_type": "code",
   "execution_count": 35,
   "id": "fda614d3",
   "metadata": {},
   "outputs": [
    {
     "data": {
      "text/plain": [
       "True"
      ]
     },
     "execution_count": 35,
     "metadata": {},
     "output_type": "execute_result"
    }
   ],
   "source": [
    "# and لازمی\n",
    "# or = optional\n",
    "#1        2        3        4\n",
    "True and True and True and True  "
   ]
  },
  {
   "cell_type": "code",
   "execution_count": 36,
   "id": "057d4fbc",
   "metadata": {},
   "outputs": [
    {
     "name": "stdout",
     "output_type": "stream",
     "text": [
      "True\n",
      "False\n",
      "False\n"
     ]
    }
   ],
   "source": [
    "# and لازمی\n",
    "# or = optional\n",
    "#1        2        3        4\n",
    "print(True and True and True and True  )\n",
    "print(True and True and False and True)\n",
    "print(False and False and False and True)"
   ]
  },
  {
   "cell_type": "code",
   "execution_count": 37,
   "id": "617ce15a",
   "metadata": {},
   "outputs": [
    {
     "name": "stdout",
     "output_type": "stream",
     "text": [
      "True\n",
      "True\n",
      "True\n",
      "False\n"
     ]
    }
   ],
   "source": [
    "# and لازمی\n",
    "# or = optional\n",
    "#1        2        3        4\n",
    "print(True or True or True or True  )\n",
    "print(True or True or False or True)\n",
    "print(False or False or False or True)\n",
    "print(False or False or False or False)"
   ]
  },
  {
   "cell_type": "code",
   "execution_count": 38,
   "id": "97ec3fc2",
   "metadata": {},
   "outputs": [
    {
     "data": {
      "text/plain": [
       "False"
      ]
     },
     "execution_count": 38,
     "metadata": {},
     "output_type": "execute_result"
    }
   ],
   "source": [
    "not True\n"
   ]
  },
  {
   "cell_type": "code",
   "execution_count": 39,
   "id": "8eace7bc",
   "metadata": {},
   "outputs": [
    {
     "name": "stdout",
     "output_type": "stream",
     "text": [
      "False\n"
     ]
    }
   ],
   "source": [
    "name : str = \"Sir Qasim\"\n",
    "print(not name==\"Sir Qasim\")\n",
    "# name == \"Sir Qasim\"\n",
    "# \"Qasim\" == \"Sir Qasim\"\n",
    "# True"
   ]
  },
  {
   "cell_type": "code",
   "execution_count": 40,
   "id": "4937d926",
   "metadata": {},
   "outputs": [
    {
     "name": "stdout",
     "output_type": "stream",
     "text": [
      "False\n"
     ]
    }
   ],
   "source": [
    "name : str = \"Sir Qasim\"\n",
    "print(name!=\"Sir Qasim\")\n",
    "# name == \"Sir Qasim\"\n",
    "# \"Qasim\" == \"Sir Qasim\""
   ]
  },
  {
   "cell_type": "markdown",
   "id": "be4b5567",
   "metadata": {},
   "source": [
    "# Python Identity Operators"
   ]
  },
  {
   "cell_type": "code",
   "execution_count": 41,
   "id": "362f66fd",
   "metadata": {},
   "outputs": [
    {
     "data": {
      "text/html": [
       "<div>\n",
       "<style scoped>\n",
       "    .dataframe tbody tr th:only-of-type {\n",
       "        vertical-align: middle;\n",
       "    }\n",
       "\n",
       "    .dataframe tbody tr th {\n",
       "        vertical-align: top;\n",
       "    }\n",
       "\n",
       "    .dataframe thead th {\n",
       "        text-align: right;\n",
       "    }\n",
       "</style>\n",
       "<table border=\"1\" class=\"dataframe\">\n",
       "  <thead>\n",
       "    <tr style=\"text-align: right;\">\n",
       "      <th></th>\n",
       "      <th>Operator</th>\n",
       "      <th>Description</th>\n",
       "      <th>Example</th>\n",
       "      <th>Try it</th>\n",
       "    </tr>\n",
       "  </thead>\n",
       "  <tbody>\n",
       "    <tr>\n",
       "      <th>0</th>\n",
       "      <td>is</td>\n",
       "      <td>Returns True if both variables are the same ob...</td>\n",
       "      <td>x is y</td>\n",
       "      <td>Try it »</td>\n",
       "    </tr>\n",
       "    <tr>\n",
       "      <th>1</th>\n",
       "      <td>is not</td>\n",
       "      <td>Returns True if both variables are not the sam...</td>\n",
       "      <td>x is not y</td>\n",
       "      <td>Try it »</td>\n",
       "    </tr>\n",
       "  </tbody>\n",
       "</table>\n",
       "</div>"
      ],
      "text/plain": [
       "  Operator                                        Description     Example  \\\n",
       "0       is  Returns True if both variables are the same ob...      x is y   \n",
       "1   is not  Returns True if both variables are not the sam...  x is not y   \n",
       "\n",
       "     Try it  \n",
       "0  Try it »  \n",
       "1  Try it »  "
      ]
     },
     "execution_count": 41,
     "metadata": {},
     "output_type": "execute_result"
    }
   ],
   "source": [
    "table[4]\n"
   ]
  },
  {
   "cell_type": "code",
   "execution_count": 42,
   "id": "45edc3bf",
   "metadata": {},
   "outputs": [
    {
     "name": "stdout",
     "output_type": "stream",
     "text": [
      "1967769230640\n",
      "1967769230640\n"
     ]
    }
   ],
   "source": [
    "x : str = 'abc'\n",
    "z : str = 'abc'\n",
    "\n",
    "print(id(x))\n",
    "print(id(z))"
   ]
  },
  {
   "cell_type": "code",
   "execution_count": 43,
   "id": "1fc21f8f",
   "metadata": {},
   "outputs": [
    {
     "name": "stdout",
     "output_type": "stream",
     "text": [
      "1967769230640\n",
      "1967841932528\n"
     ]
    },
    {
     "data": {
      "text/plain": [
       "False"
      ]
     },
     "execution_count": 43,
     "metadata": {},
     "output_type": "execute_result"
    }
   ],
   "source": [
    "i : str = 'abc'\n",
    "j : str = 'xyz'\n",
    "\n",
    "print(id(i))\n",
    "print(id(j))\n",
    "\n",
    "i is j"
   ]
  },
  {
   "cell_type": "code",
   "execution_count": 44,
   "id": "f0a8c0e5",
   "metadata": {},
   "outputs": [
    {
     "data": {
      "text/plain": [
       "True"
      ]
     },
     "execution_count": 44,
     "metadata": {},
     "output_type": "execute_result"
    }
   ],
   "source": [
    "x is z\n"
   ]
  },
  {
   "cell_type": "code",
   "execution_count": 45,
   "id": "5277b02a",
   "metadata": {},
   "outputs": [
    {
     "name": "stdout",
     "output_type": "stream",
     "text": [
      "1967769230640\n",
      "1967769230640\n"
     ]
    },
    {
     "data": {
      "text/plain": [
       "False"
      ]
     },
     "execution_count": 45,
     "metadata": {},
     "output_type": "execute_result"
    }
   ],
   "source": [
    "x : str = 'abc'\n",
    "z : str = 'abc'\n",
    "\n",
    "print(id(x))\n",
    "print(id(z))\n",
    "\n",
    "x is not z"
   ]
  },
  {
   "cell_type": "markdown",
   "id": "24e7bd5a",
   "metadata": {},
   "source": [
    "# Python Membership Operators"
   ]
  },
  {
   "cell_type": "code",
   "execution_count": 46,
   "id": "e2a1abab",
   "metadata": {},
   "outputs": [
    {
     "data": {
      "text/html": [
       "<div>\n",
       "<style scoped>\n",
       "    .dataframe tbody tr th:only-of-type {\n",
       "        vertical-align: middle;\n",
       "    }\n",
       "\n",
       "    .dataframe tbody tr th {\n",
       "        vertical-align: top;\n",
       "    }\n",
       "\n",
       "    .dataframe thead th {\n",
       "        text-align: right;\n",
       "    }\n",
       "</style>\n",
       "<table border=\"1\" class=\"dataframe\">\n",
       "  <thead>\n",
       "    <tr style=\"text-align: right;\">\n",
       "      <th></th>\n",
       "      <th>Operator</th>\n",
       "      <th>Description</th>\n",
       "      <th>Example</th>\n",
       "      <th>Try it</th>\n",
       "    </tr>\n",
       "  </thead>\n",
       "  <tbody>\n",
       "    <tr>\n",
       "      <th>0</th>\n",
       "      <td>in</td>\n",
       "      <td>Returns True if a sequence with the specified ...</td>\n",
       "      <td>x in y</td>\n",
       "      <td>Try it »</td>\n",
       "    </tr>\n",
       "    <tr>\n",
       "      <th>1</th>\n",
       "      <td>not in</td>\n",
       "      <td>Returns True if a sequence with the specified ...</td>\n",
       "      <td>x not in y</td>\n",
       "      <td>Try it »</td>\n",
       "    </tr>\n",
       "  </tbody>\n",
       "</table>\n",
       "</div>"
      ],
      "text/plain": [
       "  Operator                                        Description     Example  \\\n",
       "0       in  Returns True if a sequence with the specified ...      x in y   \n",
       "1   not in  Returns True if a sequence with the specified ...  x not in y   \n",
       "\n",
       "     Try it  \n",
       "0  Try it »  \n",
       "1  Try it »  "
      ]
     },
     "execution_count": 46,
     "metadata": {},
     "output_type": "execute_result"
    }
   ],
   "source": [
    "table[5]\n"
   ]
  },
  {
   "cell_type": "code",
   "execution_count": 47,
   "id": "17216348",
   "metadata": {},
   "outputs": [
    {
     "name": "stdout",
     "output_type": "stream",
     "text": [
      "0 A\n",
      "1 B\n",
      "2 C\n",
      "3 D\n",
      "True\n"
     ]
    }
   ],
   "source": [
    "names: list[str] = [chr(i) for i in range(65,91)]\n",
    "\n",
    "for i in range(len(names)):\n",
    "    print(i, names[i])\n",
    "    if names[i] == \"D\":\n",
    "        print(\"True\")\n",
    "        break"
   ]
  },
  {
   "cell_type": "code",
   "execution_count": 48,
   "id": "0c62652f",
   "metadata": {},
   "outputs": [
    {
     "data": {
      "text/plain": [
       "True"
      ]
     },
     "execution_count": 48,
     "metadata": {},
     "output_type": "execute_result"
    }
   ],
   "source": [
    "names: list[str] = [chr(i) for i in range(65,91)]\n",
    "\n",
    "\"D\" in names"
   ]
  },
  {
   "cell_type": "code",
   "execution_count": 49,
   "id": "6c0dac97",
   "metadata": {},
   "outputs": [
    {
     "data": {
      "text/plain": [
       "['A',\n",
       " 'B',\n",
       " 'C',\n",
       " 'D',\n",
       " 'E',\n",
       " 'F',\n",
       " 'G',\n",
       " 'H',\n",
       " 'I',\n",
       " 'J',\n",
       " 'K',\n",
       " 'L',\n",
       " 'M',\n",
       " 'N',\n",
       " 'O',\n",
       " 'P',\n",
       " 'Q',\n",
       " 'R',\n",
       " 'S',\n",
       " 'T',\n",
       " 'U',\n",
       " 'V',\n",
       " 'W',\n",
       " 'X',\n",
       " 'Y',\n",
       " 'Z']"
      ]
     },
     "metadata": {},
     "output_type": "display_data"
    },
    {
     "data": {
      "text/plain": [
       "False"
      ]
     },
     "execution_count": 49,
     "metadata": {},
     "output_type": "execute_result"
    }
   ],
   "source": [
    "names: list[str] = [chr(i) for i in range(65,91)]\n",
    "display(names)\n",
    "\n",
    "\"Pakistan\" in names"
   ]
  },
  {
   "cell_type": "code",
   "execution_count": 50,
   "id": "fe1ba46d",
   "metadata": {},
   "outputs": [
    {
     "data": {
      "text/plain": [
       "False"
      ]
     },
     "execution_count": 50,
     "metadata": {},
     "output_type": "execute_result"
    }
   ],
   "source": [
    "names: list[str] = [chr(i) for i in range(65,91)]\n",
    "\n",
    "\"D\" not in names"
   ]
  },
  {
   "cell_type": "code",
   "execution_count": 51,
   "id": "32605e18",
   "metadata": {},
   "outputs": [
    {
     "name": "stdout",
     "output_type": "stream",
     "text": [
      "Enter your nameSir Qasim\n"
     ]
    },
    {
     "data": {
      "text/plain": [
       "True"
      ]
     },
     "execution_count": 51,
     "metadata": {},
     "output_type": "execute_result"
    }
   ],
   "source": [
    "names : list[str] = ['Sir Zia','Sir Inam', 'Sir Qasim']\n",
    "\n",
    "uinput : str = input(\"Enter your name\")\n",
    "\n",
    "uinput in names"
   ]
  },
  {
   "cell_type": "code",
   "execution_count": 52,
   "id": "7f6d3471",
   "metadata": {},
   "outputs": [
    {
     "name": "stdout",
     "output_type": "stream",
     "text": [
      "Enter your nameSir Muhammad Qasim\n"
     ]
    },
    {
     "data": {
      "text/plain": [
       "True"
      ]
     },
     "execution_count": 52,
     "metadata": {},
     "output_type": "execute_result"
    }
   ],
   "source": [
    "names : list[str] = ['Sir Zia','Sir Inam', 'Sir Qasim']\n",
    "\n",
    "uinput : str = input(\"Enter your name\")\n",
    "\n",
    "uinput not in names"
   ]
  },
  {
   "cell_type": "code",
   "execution_count": 53,
   "id": "cea11264",
   "metadata": {},
   "outputs": [
    {
     "data": {
      "text/plain": [
       "True"
      ]
     },
     "execution_count": 53,
     "metadata": {},
     "output_type": "execute_result"
    }
   ],
   "source": [
    "uinput not in names"
   ]
  },
  {
   "cell_type": "markdown",
   "id": "d7ab30f5",
   "metadata": {},
   "source": [
    "# PEMDAS"
   ]
  },
  {
   "cell_type": "code",
   "execution_count": 54,
   "id": "fbc935df",
   "metadata": {},
   "outputs": [
    {
     "name": "stdout",
     "output_type": "stream",
     "text": [
      "3.0\n"
     ]
    }
   ],
   "source": [
    "print(3 + 2 - 2 * 4 /2 + 2)\n",
    "#     3+2−2×4÷2+2\n",
    "#     3 + 2 - 4 + 2\n",
    "#      6    - 8"
   ]
  },
  {
   "cell_type": "markdown",
   "id": "e33298de",
   "metadata": {},
   "source": [
    "Alright, let's solve the equation step by step. We'll use the order of operations, often remembered by the acronym PEMDAS/BODMAS:\n",
    "\n",
    "Parentheses/Brackets\n",
    "Exponents (ie Powers and Square Roots, etc.)/Orders (ie Powers and Square Roots, etc.)\n",
    "MD Multiplication and Division (left-to-right)\n",
    "AS Addition and Subtraction (left-to-right)\n",
    "Given the expression:\n",
    "\n",
    "[ 3 + 2 - 2 \\times 4 \\div 2 + 2 ]\n",
    "\n",
    "Let's solve it step by step:\n",
    "\n",
    "Multiplication and Division:\n",
    "[ 2 \\times 4 = 8 ] [ 8 \\div 2 = 4 ]\n",
    "\n",
    "Replacing these values in the expression, we get:\n",
    "\n",
    "[ 3 + 2 - 4 + 2 ]\n",
    "\n",
    "Addition and Subtraction (from left to right):\n",
    "[ 3 + 2 = 5 ] [ 5 - 4 = 1 ] [ 1 + 2 = 3 ]\n",
    "\n",
    "So, the final answer is:\n",
    "\n",
    "[ 3 ]"
   ]
  },
  {
   "cell_type": "code",
   "execution_count": 55,
   "id": "2b2f84b9",
   "metadata": {},
   "outputs": [
    {
     "name": "stdout",
     "output_type": "stream",
     "text": [
      "0\n"
     ]
    }
   ],
   "source": [
    "print((6 + 3) - (6 + 3))\n"
   ]
  },
  {
   "cell_type": "code",
   "execution_count": 56,
   "id": "71d31b44",
   "metadata": {},
   "outputs": [
    {
     "name": "stdout",
     "output_type": "stream",
     "text": [
      "14000000000\n"
     ]
    }
   ],
   "source": [
    "universe_age: int  = 14_000_000_000\n",
    "print(universe_age)"
   ]
  },
  {
   "cell_type": "code",
   "execution_count": 57,
   "id": "e85dbe45",
   "metadata": {},
   "outputs": [
    {
     "name": "stdout",
     "output_type": "stream",
     "text": [
      "Sir qasim\n",
      "7\n",
      "3.0\n"
     ]
    }
   ],
   "source": [
    "# unzip\n",
    "#0  1    2     0        1   2\n",
    "a , b  , c  = 'Sir qasim', 7, 3.0\n",
    "\n",
    "print(a)\n",
    "print(b)\n",
    "print(c)"
   ]
  },
  {
   "cell_type": "code",
   "execution_count": 58,
   "id": "318cce61",
   "metadata": {},
   "outputs": [
    {
     "data": {
      "text/plain": [
       "('Sir qasim', 7, 3.0)"
      ]
     },
     "execution_count": 58,
     "metadata": {},
     "output_type": "execute_result"
    }
   ],
   "source": [
    "'Sir qasim', 7, 3.0"
   ]
  },
  {
   "cell_type": "code",
   "execution_count": 59,
   "id": "cf956ff2",
   "metadata": {},
   "outputs": [
    {
     "name": "stdout",
     "output_type": "stream",
     "text": [
      "Sir qasim\n",
      "7\n",
      "3.0\n"
     ]
    }
   ],
   "source": [
    "a, b, c = ('Sir qasim', 7, 3.0)\n",
    "print(a)\n",
    "print(b)\n",
    "print(c)"
   ]
  },
  {
   "cell_type": "code",
   "execution_count": 60,
   "id": "fb4efccb",
   "metadata": {},
   "outputs": [
    {
     "name": "stdout",
     "output_type": "stream",
     "text": [
      "Sir qasim 7 3.0\n"
     ]
    }
   ],
   "source": [
    "data = ('Sir qasim', 7, 3.0)\n",
    "print(data[0], data[1], data[2])"
   ]
  },
  {
   "cell_type": "code",
   "execution_count": 61,
   "id": "df95abae",
   "metadata": {},
   "outputs": [
    {
     "name": "stdout",
     "output_type": "stream",
     "text": [
      "Sir qasim 7 3.0\n"
     ]
    }
   ],
   "source": [
    "data = ('Sir qasim', 7, 3.0)\n",
    "print(*data)"
   ]
  },
  {
   "cell_type": "code",
   "execution_count": 62,
   "id": "e96fe2eb",
   "metadata": {},
   "outputs": [
    {
     "data": {
      "text/plain": [
       "'aaa'"
      ]
     },
     "execution_count": 62,
     "metadata": {},
     "output_type": "execute_result"
    }
   ],
   "source": [
    "2 * 2\n",
    "\"a\" * 3"
   ]
  },
  {
   "cell_type": "code",
   "execution_count": 63,
   "id": "fa53c5d2",
   "metadata": {},
   "outputs": [],
   "source": [
    "# akadkjas\n",
    "\n",
    "\n",
    "# adskf\n",
    "# ads\n",
    "# Falsea\n",
    "# df"
   ]
  },
  {
   "cell_type": "code",
   "execution_count": 64,
   "id": "016fce29",
   "metadata": {},
   "outputs": [
    {
     "name": "stdout",
     "output_type": "stream",
     "text": [
      "hello\n"
     ]
    }
   ],
   "source": [
    "\"\"\"\n",
    "asdf\n",
    "asd\n",
    "f\n",
    "asdf\n",
    "\n",
    "\"\"\"\n",
    "\n",
    "print('hello')"
   ]
  },
  {
   "cell_type": "code",
   "execution_count": 65,
   "id": "81e9d488",
   "metadata": {},
   "outputs": [
    {
     "name": "stdout",
     "output_type": "stream",
     "text": [
      "The Zen of Python, by Tim Peters\n",
      "\n",
      "Beautiful is better than ugly.\n",
      "Explicit is better than implicit.\n",
      "Simple is better than complex.\n",
      "Complex is better than complicated.\n",
      "Flat is better than nested.\n",
      "Sparse is better than dense.\n",
      "Readability counts.\n",
      "Special cases aren't special enough to break the rules.\n",
      "Although practicality beats purity.\n",
      "Errors should never pass silently.\n",
      "Unless explicitly silenced.\n",
      "In the face of ambiguity, refuse the temptation to guess.\n",
      "There should be one-- and preferably only one --obvious way to do it.\n",
      "Although that way may not be obvious at first unless you're Dutch.\n",
      "Now is better than never.\n",
      "Although never is often better than *right* now.\n",
      "If the implementation is hard to explain, it's a bad idea.\n",
      "If the implementation is easy to explain, it may be a good idea.\n",
      "Namespaces are one honking great idea -- let's do more of those!\n"
     ]
    }
   ],
   "source": [
    "import this\n"
   ]
  },
  {
   "cell_type": "markdown",
   "id": "ec9a9e01",
   "metadata": {},
   "source": [
    "# Exercises Chapter 2"
   ]
  },
  {
   "cell_type": "markdown",
   "id": "2ed77c2b",
   "metadata": {},
   "source": [
    "2-9. Number Eight: Write addition, subtraction, multiplication, and division \n",
    "operations that each result in the number 8. Be sure to enclose your operations \n",
    "in print() calls to see the results. You should create four lines that look like this:\n",
    "print(5+3)Your output should be four lines, with the number 8 appearing once on \n",
    "each line.\n"
   ]
  },
  {
   "cell_type": "code",
   "execution_count": 66,
   "id": "d5a2cf23",
   "metadata": {},
   "outputs": [
    {
     "name": "stdout",
     "output_type": "stream",
     "text": [
      "8\n",
      "8\n",
      "8\n",
      "8.0\n"
     ]
    }
   ],
   "source": [
    "print(4*2)\n",
    "print(7+1)\n",
    "print(11-3)\n",
    "print(80/10)"
   ]
  },
  {
   "cell_type": "markdown",
   "id": "5d94fc4e",
   "metadata": {},
   "source": [
    "2-10. Favorite Number: Use a variable to represent your favorite number. Then, \n",
    "using that variable, create a message that reveals your favorite number. Print \n",
    "that message"
   ]
  },
  {
   "cell_type": "code",
   "execution_count": 67,
   "id": "cdd4c050",
   "metadata": {},
   "outputs": [
    {
     "name": "stdout",
     "output_type": "stream",
     "text": [
      "My favorite number is 18.\n"
     ]
    }
   ],
   "source": [
    "num = 18\n",
    "show = f\"My favorite number is {num}.\"\n",
    "\n",
    "print(show)"
   ]
  },
  {
   "cell_type": "markdown",
   "id": "cc81818f",
   "metadata": {},
   "source": [
    "2-11. Adding Comments: Choose two of the programs you’ve written, and \n",
    "add at least one comment to each. If you don’t have anything specific to write \n",
    "because your programs are too simple at this point, just add your name and the \n",
    "current date at the top of each program file. Then write one sentence describing \n",
    "what the program does."
   ]
  },
  {
   "cell_type": "markdown",
   "id": "985a3ca3",
   "metadata": {},
   "source": [
    "2-12. Zen of Python: Enter import this into a Python terminal session and skim \n",
    "through the additional principles"
   ]
  },
  {
   "cell_type": "code",
   "execution_count": 68,
   "id": "2f2ea606",
   "metadata": {},
   "outputs": [],
   "source": [
    "import this"
   ]
  }
 ],
 "metadata": {
  "kernelspec": {
   "display_name": "Python 3 (ipykernel)",
   "language": "python",
   "name": "python3"
  },
  "language_info": {
   "codemirror_mode": {
    "name": "ipython",
    "version": 3
   },
   "file_extension": ".py",
   "mimetype": "text/x-python",
   "name": "python",
   "nbconvert_exporter": "python",
   "pygments_lexer": "ipython3",
   "version": "3.10.9"
  }
 },
 "nbformat": 4,
 "nbformat_minor": 5
}
